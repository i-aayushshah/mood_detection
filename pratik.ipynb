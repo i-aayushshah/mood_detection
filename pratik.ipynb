{
 "cells": [
  {
   "cell_type": "markdown",
   "id": "f3219cb5",
   "metadata": {},
   "source": [
    "# Setup and Imports\n",
    "\n",
    "Install required libraries and import modules for dataset processing, model training, and app functionality.\n",
    "\n",
    "**Note**: Run `!pip install ...` in Colab or ensure dependencies are installed locally."
   ]
  },
  {
   "cell_type": "code",
   "execution_count": 2,
   "id": "558f2c95",
   "metadata": {},
   "outputs": [
    {
     "name": "stdout",
     "output_type": "stream",
     "text": [
      "Collecting tensorflow\n",
      "  Using cached tensorflow-2.19.0-cp310-cp310-win_amd64.whl.metadata (4.1 kB)\n",
      "Requirement already satisfied: opencv-python in c:\\users\\ayush\\anaconda3\\envs\\mediapipe_env\\lib\\site-packages (4.11.0.86)\n",
      "Requirement already satisfied: numpy in c:\\users\\ayush\\anaconda3\\envs\\mediapipe_env\\lib\\site-packages (1.26.4)\n",
      "Requirement already satisfied: pandas in c:\\users\\ayush\\anaconda3\\envs\\mediapipe_env\\lib\\site-packages (2.2.3)\n",
      "Requirement already satisfied: scikit-learn in c:\\users\\ayush\\anaconda3\\envs\\mediapipe_env\\lib\\site-packages (1.6.1)\n",
      "Requirement already satisfied: matplotlib in c:\\users\\ayush\\anaconda3\\envs\\mediapipe_env\\lib\\site-packages (3.10.1)\n",
      "Requirement already satisfied: pygame in c:\\users\\ayush\\anaconda3\\envs\\mediapipe_env\\lib\\site-packages (2.6.1)\n",
      "Collecting mediapipe\n",
      "  Using cached mediapipe-0.10.21-cp310-cp310-win_amd64.whl.metadata (10 kB)\n",
      "Requirement already satisfied: absl-py>=1.0.0 in c:\\users\\ayush\\anaconda3\\envs\\mediapipe_env\\lib\\site-packages (from tensorflow) (2.2.2)\n",
      "Requirement already satisfied: astunparse>=1.6.0 in c:\\users\\ayush\\anaconda3\\envs\\mediapipe_env\\lib\\site-packages (from tensorflow) (1.6.3)\n",
      "Requirement already satisfied: flatbuffers>=24.3.25 in c:\\users\\ayush\\anaconda3\\envs\\mediapipe_env\\lib\\site-packages (from tensorflow) (25.2.10)\n",
      "Requirement already satisfied: gast!=0.5.0,!=0.5.1,!=0.5.2,>=0.2.1 in c:\\users\\ayush\\anaconda3\\envs\\mediapipe_env\\lib\\site-packages (from tensorflow) (0.6.0)\n",
      "Requirement already satisfied: google-pasta>=0.1.1 in c:\\users\\ayush\\anaconda3\\envs\\mediapipe_env\\lib\\site-packages (from tensorflow) (0.2.0)\n",
      "Requirement already satisfied: libclang>=13.0.0 in c:\\users\\ayush\\anaconda3\\envs\\mediapipe_env\\lib\\site-packages (from tensorflow) (18.1.1)\n",
      "Requirement already satisfied: opt-einsum>=2.3.2 in c:\\users\\ayush\\anaconda3\\envs\\mediapipe_env\\lib\\site-packages (from tensorflow) (3.4.0)\n",
      "Requirement already satisfied: packaging in c:\\users\\ayush\\appdata\\roaming\\python\\python310\\site-packages (from tensorflow) (24.2)\n",
      "Requirement already satisfied: protobuf!=4.21.0,!=4.21.1,!=4.21.2,!=4.21.3,!=4.21.4,!=4.21.5,<6.0.0dev,>=3.20.3 in c:\\users\\ayush\\anaconda3\\envs\\mediapipe_env\\lib\\site-packages (from tensorflow) (4.25.6)\n",
      "Requirement already satisfied: requests<3,>=2.21.0 in c:\\users\\ayush\\anaconda3\\envs\\mediapipe_env\\lib\\site-packages (from tensorflow) (2.32.3)\n",
      "Requirement already satisfied: setuptools in c:\\users\\ayush\\anaconda3\\envs\\mediapipe_env\\lib\\site-packages (from tensorflow) (75.8.0)\n",
      "Requirement already satisfied: six>=1.12.0 in c:\\users\\ayush\\appdata\\roaming\\python\\python310\\site-packages (from tensorflow) (1.17.0)\n",
      "Requirement already satisfied: termcolor>=1.1.0 in c:\\users\\ayush\\anaconda3\\envs\\mediapipe_env\\lib\\site-packages (from tensorflow) (3.0.1)\n",
      "Requirement already satisfied: typing-extensions>=3.6.6 in c:\\users\\ayush\\appdata\\roaming\\python\\python310\\site-packages (from tensorflow) (4.13.2)\n",
      "Requirement already satisfied: wrapt>=1.11.0 in c:\\users\\ayush\\anaconda3\\envs\\mediapipe_env\\lib\\site-packages (from tensorflow) (1.17.2)\n",
      "Requirement already satisfied: grpcio<2.0,>=1.24.3 in c:\\users\\ayush\\anaconda3\\envs\\mediapipe_env\\lib\\site-packages (from tensorflow) (1.71.0)\n",
      "Requirement already satisfied: tensorboard~=2.19.0 in c:\\users\\ayush\\anaconda3\\envs\\mediapipe_env\\lib\\site-packages (from tensorflow) (2.19.0)\n",
      "Requirement already satisfied: keras>=3.5.0 in c:\\users\\ayush\\anaconda3\\envs\\mediapipe_env\\lib\\site-packages (from tensorflow) (3.9.2)\n",
      "Requirement already satisfied: h5py>=3.11.0 in c:\\users\\ayush\\anaconda3\\envs\\mediapipe_env\\lib\\site-packages (from tensorflow) (3.13.0)\n",
      "Requirement already satisfied: ml-dtypes<1.0.0,>=0.5.1 in c:\\users\\ayush\\anaconda3\\envs\\mediapipe_env\\lib\\site-packages (from tensorflow) (0.5.1)\n",
      "Requirement already satisfied: tensorflow-io-gcs-filesystem>=0.23.1 in c:\\users\\ayush\\anaconda3\\envs\\mediapipe_env\\lib\\site-packages (from tensorflow) (0.31.0)\n",
      "Requirement already satisfied: python-dateutil>=2.8.2 in c:\\users\\ayush\\appdata\\roaming\\python\\python310\\site-packages (from pandas) (2.9.0.post0)\n",
      "Requirement already satisfied: pytz>=2020.1 in c:\\users\\ayush\\anaconda3\\envs\\mediapipe_env\\lib\\site-packages (from pandas) (2025.2)\n",
      "Requirement already satisfied: tzdata>=2022.7 in c:\\users\\ayush\\anaconda3\\envs\\mediapipe_env\\lib\\site-packages (from pandas) (2025.2)\n",
      "Requirement already satisfied: scipy>=1.6.0 in c:\\users\\ayush\\anaconda3\\envs\\mediapipe_env\\lib\\site-packages (from scikit-learn) (1.15.2)\n",
      "Requirement already satisfied: joblib>=1.2.0 in c:\\users\\ayush\\anaconda3\\envs\\mediapipe_env\\lib\\site-packages (from scikit-learn) (1.4.2)\n",
      "Requirement already satisfied: threadpoolctl>=3.1.0 in c:\\users\\ayush\\anaconda3\\envs\\mediapipe_env\\lib\\site-packages (from scikit-learn) (3.6.0)\n",
      "Requirement already satisfied: contourpy>=1.0.1 in c:\\users\\ayush\\anaconda3\\envs\\mediapipe_env\\lib\\site-packages (from matplotlib) (1.3.1)\n",
      "Requirement already satisfied: cycler>=0.10 in c:\\users\\ayush\\anaconda3\\envs\\mediapipe_env\\lib\\site-packages (from matplotlib) (0.12.1)\n",
      "Requirement already satisfied: fonttools>=4.22.0 in c:\\users\\ayush\\anaconda3\\envs\\mediapipe_env\\lib\\site-packages (from matplotlib) (4.57.0)\n",
      "Requirement already satisfied: kiwisolver>=1.3.1 in c:\\users\\ayush\\anaconda3\\envs\\mediapipe_env\\lib\\site-packages (from matplotlib) (1.4.8)\n",
      "Requirement already satisfied: pillow>=8 in c:\\users\\ayush\\anaconda3\\envs\\mediapipe_env\\lib\\site-packages (from matplotlib) (11.2.1)\n",
      "Requirement already satisfied: pyparsing>=2.3.1 in c:\\users\\ayush\\anaconda3\\envs\\mediapipe_env\\lib\\site-packages (from matplotlib) (3.2.3)\n",
      "Requirement already satisfied: attrs>=19.1.0 in c:\\users\\ayush\\anaconda3\\envs\\mediapipe_env\\lib\\site-packages (from mediapipe) (25.3.0)\n",
      "Requirement already satisfied: jax in c:\\users\\ayush\\anaconda3\\envs\\mediapipe_env\\lib\\site-packages (from mediapipe) (0.5.3)\n",
      "Requirement already satisfied: jaxlib in c:\\users\\ayush\\anaconda3\\envs\\mediapipe_env\\lib\\site-packages (from mediapipe) (0.5.3)\n",
      "Requirement already satisfied: opencv-contrib-python in c:\\users\\ayush\\anaconda3\\envs\\mediapipe_env\\lib\\site-packages (from mediapipe) (4.11.0.86)\n",
      "Requirement already satisfied: sounddevice>=0.4.4 in c:\\users\\ayush\\anaconda3\\envs\\mediapipe_env\\lib\\site-packages (from mediapipe) (0.5.1)\n",
      "Requirement already satisfied: sentencepiece in c:\\users\\ayush\\anaconda3\\envs\\mediapipe_env\\lib\\site-packages (from mediapipe) (0.2.0)\n",
      "Requirement already satisfied: wheel<1.0,>=0.23.0 in c:\\users\\ayush\\anaconda3\\envs\\mediapipe_env\\lib\\site-packages (from astunparse>=1.6.0->tensorflow) (0.45.1)\n",
      "Requirement already satisfied: rich in c:\\users\\ayush\\anaconda3\\envs\\mediapipe_env\\lib\\site-packages (from keras>=3.5.0->tensorflow) (14.0.0)\n",
      "Requirement already satisfied: namex in c:\\users\\ayush\\anaconda3\\envs\\mediapipe_env\\lib\\site-packages (from keras>=3.5.0->tensorflow) (0.0.8)\n",
      "Requirement already satisfied: optree in c:\\users\\ayush\\anaconda3\\envs\\mediapipe_env\\lib\\site-packages (from keras>=3.5.0->tensorflow) (0.15.0)\n",
      "Requirement already satisfied: charset-normalizer<4,>=2 in c:\\users\\ayush\\anaconda3\\envs\\mediapipe_env\\lib\\site-packages (from requests<3,>=2.21.0->tensorflow) (3.4.1)\n",
      "Requirement already satisfied: idna<4,>=2.5 in c:\\users\\ayush\\anaconda3\\envs\\mediapipe_env\\lib\\site-packages (from requests<3,>=2.21.0->tensorflow) (3.10)\n",
      "Requirement already satisfied: urllib3<3,>=1.21.1 in c:\\users\\ayush\\anaconda3\\envs\\mediapipe_env\\lib\\site-packages (from requests<3,>=2.21.0->tensorflow) (2.4.0)\n",
      "Requirement already satisfied: certifi>=2017.4.17 in c:\\users\\ayush\\anaconda3\\envs\\mediapipe_env\\lib\\site-packages (from requests<3,>=2.21.0->tensorflow) (2025.1.31)\n",
      "Requirement already satisfied: CFFI>=1.0 in c:\\users\\ayush\\anaconda3\\envs\\mediapipe_env\\lib\\site-packages (from sounddevice>=0.4.4->mediapipe) (1.17.1)\n",
      "Requirement already satisfied: markdown>=2.6.8 in c:\\users\\ayush\\anaconda3\\envs\\mediapipe_env\\lib\\site-packages (from tensorboard~=2.19.0->tensorflow) (3.8)\n",
      "Requirement already satisfied: tensorboard-data-server<0.8.0,>=0.7.0 in c:\\users\\ayush\\anaconda3\\envs\\mediapipe_env\\lib\\site-packages (from tensorboard~=2.19.0->tensorflow) (0.7.2)\n",
      "Requirement already satisfied: werkzeug>=1.0.1 in c:\\users\\ayush\\anaconda3\\envs\\mediapipe_env\\lib\\site-packages (from tensorboard~=2.19.0->tensorflow) (3.1.3)\n",
      "Requirement already satisfied: pycparser in c:\\users\\ayush\\anaconda3\\envs\\mediapipe_env\\lib\\site-packages (from CFFI>=1.0->sounddevice>=0.4.4->mediapipe) (2.22)\n",
      "Requirement already satisfied: MarkupSafe>=2.1.1 in c:\\users\\ayush\\anaconda3\\envs\\mediapipe_env\\lib\\site-packages (from werkzeug>=1.0.1->tensorboard~=2.19.0->tensorflow) (3.0.2)\n",
      "Requirement already satisfied: markdown-it-py>=2.2.0 in c:\\users\\ayush\\anaconda3\\envs\\mediapipe_env\\lib\\site-packages (from rich->keras>=3.5.0->tensorflow) (3.0.0)\n",
      "Requirement already satisfied: pygments<3.0.0,>=2.13.0 in c:\\users\\ayush\\appdata\\roaming\\python\\python310\\site-packages (from rich->keras>=3.5.0->tensorflow) (2.19.1)\n",
      "Requirement already satisfied: mdurl~=0.1 in c:\\users\\ayush\\anaconda3\\envs\\mediapipe_env\\lib\\site-packages (from markdown-it-py>=2.2.0->rich->keras>=3.5.0->tensorflow) (0.1.2)\n",
      "Using cached tensorflow-2.19.0-cp310-cp310-win_amd64.whl (375.7 MB)\n",
      "Using cached mediapipe-0.10.21-cp310-cp310-win_amd64.whl (51.0 MB)\n",
      "Installing collected packages: tensorflow, mediapipe\n",
      "Successfully installed mediapipe-0.10.21 tensorflow-2.19.0\n",
      "Note: you may need to restart the kernel to use updated packages.\n"
     ]
    }
   ],
   "source": [
    "pip install tensorflow opencv-python numpy pandas scikit-learn matplotlib pygame mediapipe"
   ]
  },
  {
   "cell_type": "code",
   "execution_count": 3,
   "id": "b7e1de75",
   "metadata": {},
   "outputs": [
    {
     "name": "stdout",
     "output_type": "stream",
     "text": [
      "pygame 2.6.1 (SDL 2.28.4, Python 3.10.16)\n",
      "Hello from the pygame community. https://www.pygame.org/contribute.html\n",
      "Libraries imported successfully!\n"
     ]
    }
   ],
   "source": [
    "# Import libraries for data processing and model training\n",
    "import pandas as pd\n",
    "import numpy as np\n",
    "import cv2\n",
    "from tensorflow.keras.models import Sequential\n",
    "from tensorflow.keras.layers import Conv2D, MaxPooling2D, Dense, Flatten, Dropout, BatchNormalization\n",
    "from tensorflow.keras.optimizers import Adam\n",
    "from tensorflow.keras.callbacks import EarlyStopping, ModelCheckpoint\n",
    "from tensorflow.keras.preprocessing.image import ImageDataGenerator\n",
    "from sklearn.model_selection import train_test_split\n",
    "from sklearn.preprocessing import LabelBinarizer\n",
    "\n",
    "# Import libraries for app functionality\n",
    "import random\n",
    "import os\n",
    "import pygame\n",
    "import time\n",
    "from tkinter import Tk, Label, Button, StringVar, Scale, HORIZONTAL, Frame\n",
    "from threading import Thread\n",
    "import mediapipe as mp\n",
    "from collections import deque\n",
    "\n",
    "# Ensure matplotlib works in Jupyter\n",
    "%matplotlib inline\n",
    "import matplotlib.pyplot as plt\n",
    "\n",
    "print(\"Libraries imported successfully!\")"
   ]
  },
  {
   "cell_type": "markdown",
   "id": "498525fc",
   "metadata": {},
   "source": [
    "# Load FER2013 Dataset\n",
    "\n",
    "Loads the FER2013 dataset from `data/fer2013.csv`, containing ~35,887 grayscale 48x48 images labeled with 7 emotions (Angry, Disgust, Fear, Happy, Sad, Surprise, Neutral).\n",
    "\n",
    "**Ensure**: `data/fer2013.csv` is in place. In Colab, upload or use Kaggle API."
   ]
  },
  {
   "cell_type": "code",
   "execution_count": 2,
   "id": "dbb54eea",
   "metadata": {},
   "outputs": [
    {
     "name": "stdout",
     "output_type": "stream",
     "text": [
      "Processed chunk of 5000 images. Total: 5000\n",
      "Processed chunk of 5000 images. Total: 10000\n",
      "Processed chunk of 5000 images. Total: 15000\n",
      "Processed chunk of 5000 images. Total: 20000\n",
      "Processed chunk of 5000 images. Total: 25000\n",
      "Processed chunk of 5000 images. Total: 30000\n",
      "Processed chunk of 5000 images. Total: 35000\n",
      "Processed chunk of 887 images. Total: 35887\n",
      "Loaded 35887 images with shape (35887, 48, 48, 1)\n"
     ]
    }
   ],
   "source": [
    "import pandas as pd\n",
    "import numpy as np\n",
    "\n",
    "def load_fer2013_chunked(data_path='data/fer2013.csv', chunksize=5000):\n",
    "    \"\"\"Load FER2013 dataset in chunks to reduce memory usage.\"\"\"\n",
    "    images = []\n",
    "    labels = []\n",
    "\n",
    "    try:\n",
    "        # Read CSV in chunks\n",
    "        for chunk in pd.read_csv(data_path, chunksize=chunksize):\n",
    "            # Process pixels\n",
    "            chunk_pixels = chunk['pixels'].apply(lambda x: np.array(x.split(), dtype='float32'))\n",
    "            chunk_images = np.array([pixel.reshape(48, 48, 1) for pixel in chunk_pixels]) / 255.0  # Normalize\n",
    "            chunk_labels = chunk['emotion'].values\n",
    "\n",
    "            # Append to lists\n",
    "            images.append(chunk_images)\n",
    "            labels.append(chunk_labels)\n",
    "\n",
    "            print(f\"Processed chunk of {len(chunk)} images. Total: {len(np.concatenate(labels))}\")\n",
    "\n",
    "        # Concatenate all chunks\n",
    "        images = np.concatenate(images, axis=0)\n",
    "        labels = np.concatenate(labels, axis=0)\n",
    "\n",
    "        print(f\"Loaded {len(images)} images with shape {images.shape}\")\n",
    "        return images, labels\n",
    "\n",
    "    except FileNotFoundError:\n",
    "        print(f\"Error: {data_path} not found. Please download from Kaggle.\")\n",
    "        return None, None\n",
    "    except Exception as e:\n",
    "        print(f\"Error processing dataset: {e}\")\n",
    "        return None, None\n",
    "\n",
    "# Load dataset\n",
    "images, labels = load_fer2013_chunked()\n",
    "if images is None:\n",
    "    raise SystemExit(\"Dataset loading failed.\")"
   ]
  },
  {
   "cell_type": "markdown",
   "id": "8940b694",
   "metadata": {},
   "source": [
    "# Preprocess Data and Setup Augmentation\n",
    "\n",
    "Splits data into training and validation sets, applies one-hot encoding, and configures data augmentation to improve model robustness (rotation, zoom, flips)."
   ]
  },
  {
   "cell_type": "code",
   "execution_count": 3,
   "id": "ae442619",
   "metadata": {},
   "outputs": [
    {
     "name": "stdout",
     "output_type": "stream",
     "text": [
      "Train: (28709, 48, 48, 1), Validation: (7178, 48, 48, 1)\n"
     ]
    },
    {
     "data": {
      "image/png": "[encoded data removed]",
      "text/plain": [
       "<Figure size 1000x200 with 5 Axes>"
      ]
     },
     "metadata": {},
     "output_type": "display_data"
    }
   ],
   "source": [
    "def preprocess_data(images, labels):\n",
    "    \"\"\"Split data and one-hot encode labels.\"\"\"\n",
    "    # Split into train (80%) and validation (20%)\n",
    "    X_train, X_val, y_train, y_val = train_test_split(\n",
    "        images, labels, test_size=0.2, stratify=labels, random_state=42\n",
    "    )\n",
    "    # One-hot encode labels\n",
    "    lb = LabelBinarizer()\n",
    "    y_train = lb.fit_transform(y_train)\n",
    "    y_val = lb.transform(y_val)\n",
    "    print(f\"Train: {X_train.shape}, Validation: {X_val.shape}\")\n",
    "    return X_train, X_val, y_train, y_val\n",
    "\n",
    "# Preprocess data\n",
    "X_train, X_val, y_train, y_val = preprocess_data(images, labels)\n",
    "\n",
    "# Setup data augmentation\n",
    "datagen = ImageDataGenerator(\n",
    "    rotation_range=10,\n",
    "    zoom_range=0.1,\n",
    "    width_shift_range=0.1,\n",
    "    height_shift_range=0.1,\n",
    "    horizontal_flip=True,\n",
    "    fill_mode='nearest'\n",
    ")\n",
    "\n",
    "# Visualize augmentation (optional)\n",
    "sample_image = X_train[0].reshape(48, 48)\n",
    "plt.figure(figsize=(10, 2))\n",
    "plt.subplot(1, 5, 1)\n",
    "plt.imshow(sample_image, cmap='gray')\n",
    "plt.title(\"Original\")\n",
    "for i in range(4):\n",
    "    aug_iter = datagen.flow(X_train[0:1], batch_size=1)\n",
    "    aug_image = next(aug_iter)[0].reshape(48, 48)\n",
    "    plt.subplot(1, 5, i+2)\n",
    "    plt.imshow(aug_image, cmap='gray')\n",
    "    plt.title(f\"Augmented {i+1}\")\n",
    "plt.show()"
   ]
  },
  {
   "cell_type": "markdown",
   "id": "2b0e415f",
   "metadata": {},
   "source": [
    "# Build and Train CNN Model\n",
    "\n",
    "Defines a CNN architecture with augmentation and trains it on FER2013. Saves the best model to `models/emotion_model.h5`.\n",
    "\n",
    "**Note**: Training may take ~20 min on GPU, longer on CPU. Use Colab for faster results."
   ]
  },
  {
   "cell_type": "code",
   "execution_count": 32,
   "id": "ac9de095",
   "metadata": {},
   "outputs": [
    {
     "name": "stdout",
     "output_type": "stream",
     "text": [
      "Epoch 1/50\n"
     ]
    },
    {
     "name": "stderr",
     "output_type": "stream",
     "text": [
      "d:\\Sugam\\Pratik Project\\venv\\lib\\site-packages\\keras\\src\\layers\\convolutional\\base_conv.py:107: UserWarning: Do not pass an `input_shape`/`input_dim` argument to a layer. When using Sequential models, prefer using an `Input(shape)` object as the first layer in the model instead.\n",
      "  super().__init__(activity_regularizer=activity_regularizer, **kwargs)\n",
      "d:\\Sugam\\Pratik Project\\venv\\lib\\site-packages\\keras\\src\\trainers\\data_adapters\\py_dataset_adapter.py:121: UserWarning: Your `PyDataset` class should call `super().__init__(**kwargs)` in its constructor. `**kwargs` can include `workers`, `use_multiprocessing`, `max_queue_size`. Do not pass these arguments to `fit()`, as they will be ignored.\n",
      "  self._warn_if_super_not_called()\n"
     ]
    },
    {
     "name": "stdout",
     "output_type": "stream",
     "text": [
      "\u001b[1m449/449\u001b[0m \u001b[32m━━━━━━━━━━━━━━━━━━━━\u001b[0m\u001b[37m\u001b[0m \u001b[1m0s\u001b[0m 337ms/step - accuracy: 0.2382 - loss: 2.3633"
     ]
    },
    {
     "name": "stderr",
     "output_type": "stream",
     "text": [
      "WARNING:absl:You are saving your model as an HDF5 file via `model.save()` or `keras.saving.save_model(model)`. This file format is considered legacy. We recommend using instead the native Keras format, e.g. `model.save('my_model.keras')` or `keras.saving.save_model(model, 'my_model.keras')`. \n"
     ]
    },
    {
     "name": "stdout",
     "output_type": "stream",
     "text": [
      "\u001b[1m449/449\u001b[0m \u001b[32m━━━━━━━━━━━━━━━━━━━━\u001b[0m\u001b[37m\u001b[0m \u001b[1m160s\u001b[0m 352ms/step - accuracy: 0.2382 - loss: 2.3626 - val_accuracy: 0.2303 - val_loss: 2.2294\n",
      "Epoch 2/50\n",
      "\u001b[1m449/449\u001b[0m \u001b[32m━━━━━━━━━━━━━━━━━━━━\u001b[0m\u001b[37m\u001b[0m \u001b[1m0s\u001b[0m 341ms/step - accuracy: 0.3631 - loss: 1.6457"
     ]
    },
    {
     "name": "stderr",
     "output_type": "stream",
     "text": [
      "WARNING:absl:You are saving your model as an HDF5 file via `model.save()` or `keras.saving.save_model(model)`. This file format is considered legacy. We recommend using instead the native Keras format, e.g. `model.save('my_model.keras')` or `keras.saving.save_model(model, 'my_model.keras')`. \n"
     ]
    },
    {
     "name": "stdout",
     "output_type": "stream",
     "text": [
      "\u001b[1m449/449\u001b[0m \u001b[32m━━━━━━━━━━━━━━━━━━━━\u001b[0m\u001b[37m\u001b[0m \u001b[1m160s\u001b[0m 357ms/step - accuracy: 0.3632 - loss: 1.6456 - val_accuracy: 0.2647 - val_loss: 1.8796\n",
      "Epoch 3/50\n",
      "\u001b[1m449/449\u001b[0m \u001b[32m━━━━━━━━━━━━━━━━━━━━\u001b[0m\u001b[37m\u001b[0m \u001b[1m0s\u001b[0m 338ms/step - accuracy: 0.4297 - loss: 1.4710"
     ]
    },
    {
     "name": "stderr",
     "output_type": "stream",
     "text": [
      "WARNING:absl:You are saving your model as an HDF5 file via `model.save()` or `keras.saving.save_model(model)`. This file format is considered legacy. We recommend using instead the native Keras format, e.g. `model.save('my_model.keras')` or `keras.saving.save_model(model, 'my_model.keras')`. \n"
     ]
    },
    {
     "name": "stdout",
     "output_type": "stream",
     "text": [
      "\u001b[1m449/449\u001b[0m \u001b[32m━━━━━━━━━━━━━━━━━━━━\u001b[0m\u001b[37m\u001b[0m \u001b[1m159s\u001b[0m 353ms/step - accuracy: 0.4298 - loss: 1.4709 - val_accuracy: 0.4738 - val_loss: 1.4048\n",
      "Epoch 4/50\n",
      "\u001b[1m449/449\u001b[0m \u001b[32m━━━━━━━━━━━━━━━━━━━━\u001b[0m\u001b[37m\u001b[0m \u001b[1m0s\u001b[0m 338ms/step - accuracy: 0.4768 - loss: 1.3751"
     ]
    },
    {
     "name": "stderr",
     "output_type": "stream",
     "text": [
      "WARNING:absl:You are saving your model as an HDF5 file via `model.save()` or `keras.saving.save_model(model)`. This file format is considered legacy. We recommend using instead the native Keras format, e.g. `model.save('my_model.keras')` or `keras.saving.save_model(model, 'my_model.keras')`. \n"
     ]
    },
    {
     "name": "stdout",
     "output_type": "stream",
     "text": [
      "\u001b[1m449/449\u001b[0m \u001b[32m━━━━━━━━━━━━━━━━━━━━\u001b[0m\u001b[37m\u001b[0m \u001b[1m158s\u001b[0m 352ms/step - accuracy: 0.4768 - loss: 1.3751 - val_accuracy: 0.4769 - val_loss: 1.3705\n",
      "Epoch 5/50\n",
      "\u001b[1m449/449\u001b[0m \u001b[32m━━━━━━━━━━━━━━━━━━━━\u001b[0m\u001b[37m\u001b[0m \u001b[1m0s\u001b[0m 331ms/step - accuracy: 0.4895 - loss: 1.3348"
     ]
    },
    {
     "name": "stderr",
     "output_type": "stream",
     "text": [
      "WARNING:absl:You are saving your model as an HDF5 file via `model.save()` or `keras.saving.save_model(model)`. This file format is considered legacy. We recommend using instead the native Keras format, e.g. `model.save('my_model.keras')` or `keras.saving.save_model(model, 'my_model.keras')`. \n"
     ]
    },
    {
     "name": "stdout",
     "output_type": "stream",
     "text": [
      "\u001b[1m449/449\u001b[0m \u001b[32m━━━━━━━━━━━━━━━━━━━━\u001b[0m\u001b[37m\u001b[0m \u001b[1m155s\u001b[0m 345ms/step - accuracy: 0.4895 - loss: 1.3348 - val_accuracy: 0.5061 - val_loss: 1.3133\n",
      "Epoch 6/50\n",
      "\u001b[1m449/449\u001b[0m \u001b[32m━━━━━━━━━━━━━━━━━━━━\u001b[0m\u001b[37m\u001b[0m \u001b[1m0s\u001b[0m 330ms/step - accuracy: 0.5004 - loss: 1.3104"
     ]
    },
    {
     "name": "stderr",
     "output_type": "stream",
     "text": [
      "WARNING:absl:You are saving your model as an HDF5 file via `model.save()` or `keras.saving.save_model(model)`. This file format is considered legacy. We recommend using instead the native Keras format, e.g. `model.save('my_model.keras')` or `keras.saving.save_model(model, 'my_model.keras')`. \n"
     ]
    },
    {
     "name": "stdout",
     "output_type": "stream",
     "text": [
      "\u001b[1m449/449\u001b[0m \u001b[32m━━━━━━━━━━━━━━━━━━━━\u001b[0m\u001b[37m\u001b[0m \u001b[1m155s\u001b[0m 345ms/step - accuracy: 0.5004 - loss: 1.3104 - val_accuracy: 0.5581 - val_loss: 1.1589\n",
      "Epoch 7/50\n",
      "\u001b[1m449/449\u001b[0m \u001b[32m━━━━━━━━━━━━━━━━━━━━\u001b[0m\u001b[37m\u001b[0m \u001b[1m154s\u001b[0m 344ms/step - accuracy: 0.5141 - loss: 1.2706 - val_accuracy: 0.5479 - val_loss: 1.1922\n",
      "Epoch 8/50\n",
      "\u001b[1m449/449\u001b[0m \u001b[32m━━━━━━━━━━━━━━━━━━━━\u001b[0m\u001b[37m\u001b[0m \u001b[1m155s\u001b[0m 346ms/step - accuracy: 0.4942 - loss: 1.3252 - val_accuracy: 0.4993 - val_loss: 1.4116\n",
      "Epoch 9/50\n",
      "\u001b[1m449/449\u001b[0m \u001b[32m━━━━━━━━━━━━━━━━━━━━\u001b[0m\u001b[37m\u001b[0m \u001b[1m154s\u001b[0m 344ms/step - accuracy: 0.5217 - loss: 1.2627 - val_accuracy: 0.4654 - val_loss: 1.5764\n",
      "Epoch 10/50\n",
      "\u001b[1m449/449\u001b[0m \u001b[32m━━━━━━━━━━━━━━━━━━━━\u001b[0m\u001b[37m\u001b[0m \u001b[1m0s\u001b[0m 331ms/step - accuracy: 0.5292 - loss: 1.2331"
     ]
    },
    {
     "name": "stderr",
     "output_type": "stream",
     "text": [
      "WARNING:absl:You are saving your model as an HDF5 file via `model.save()` or `keras.saving.save_model(model)`. This file format is considered legacy. We recommend using instead the native Keras format, e.g. `model.save('my_model.keras')` or `keras.saving.save_model(model, 'my_model.keras')`. \n"
     ]
    },
    {
     "name": "stdout",
     "output_type": "stream",
     "text": [
      "\u001b[1m449/449\u001b[0m \u001b[32m━━━━━━━━━━━━━━━━━━━━\u001b[0m\u001b[37m\u001b[0m \u001b[1m155s\u001b[0m 345ms/step - accuracy: 0.5292 - loss: 1.2331 - val_accuracy: 0.5635 - val_loss: 1.1679\n",
      "Epoch 11/50\n",
      "\u001b[1m449/449\u001b[0m \u001b[32m━━━━━━━━━━━━━━━━━━━━\u001b[0m\u001b[37m\u001b[0m \u001b[1m0s\u001b[0m 332ms/step - accuracy: 0.5334 - loss: 1.2288"
     ]
    },
    {
     "name": "stderr",
     "output_type": "stream",
     "text": [
      "WARNING:absl:You are saving your model as an HDF5 file via `model.save()` or `keras.saving.save_model(model)`. This file format is considered legacy. We recommend using instead the native Keras format, e.g. `model.save('my_model.keras')` or `keras.saving.save_model(model, 'my_model.keras')`. \n"
     ]
    },
    {
     "name": "stdout",
     "output_type": "stream",
     "text": [
      "\u001b[1m449/449\u001b[0m \u001b[32m━━━━━━━━━━━━━━━━━━━━\u001b[0m\u001b[37m\u001b[0m \u001b[1m155s\u001b[0m 346ms/step - accuracy: 0.5334 - loss: 1.2288 - val_accuracy: 0.5942 - val_loss: 1.0818\n",
      "Epoch 12/50\n",
      "\u001b[1m449/449\u001b[0m \u001b[32m━━━━━━━━━━━━━━━━━━━━\u001b[0m\u001b[37m\u001b[0m \u001b[1m155s\u001b[0m 345ms/step - accuracy: 0.5489 - loss: 1.1990 - val_accuracy: 0.5245 - val_loss: 1.3867\n",
      "Epoch 13/50\n",
      "\u001b[1m449/449\u001b[0m \u001b[32m━━━━━━━━━━━━━━━━━━━━\u001b[0m\u001b[37m\u001b[0m \u001b[1m155s\u001b[0m 345ms/step - accuracy: 0.5488 - loss: 1.1870 - val_accuracy: 0.5655 - val_loss: 1.2194\n",
      "Epoch 14/50\n",
      "\u001b[1m449/449\u001b[0m \u001b[32m━━━━━━━━━━━━━━━━━━━━\u001b[0m\u001b[37m\u001b[0m \u001b[1m156s\u001b[0m 347ms/step - accuracy: 0.5476 - loss: 1.1891 - val_accuracy: 0.4606 - val_loss: 1.8198\n",
      "Epoch 15/50\n",
      "\u001b[1m449/449\u001b[0m \u001b[32m━━━━━━━━━━━━━━━━━━━━\u001b[0m\u001b[37m\u001b[0m \u001b[1m155s\u001b[0m 345ms/step - accuracy: 0.5457 - loss: 1.2076 - val_accuracy: 0.5711 - val_loss: 1.1397\n",
      "Epoch 16/50\n",
      "\u001b[1m449/449\u001b[0m \u001b[32m━━━━━━━━━━━━━━━━━━━━\u001b[0m\u001b[37m\u001b[0m \u001b[1m156s\u001b[0m 346ms/step - accuracy: 0.5564 - loss: 1.1689 - val_accuracy: 0.5712 - val_loss: 1.1525\n",
      "Epoch 17/50\n",
      "\u001b[1m449/449\u001b[0m \u001b[32m━━━━━━━━━━━━━━━━━━━━\u001b[0m\u001b[37m\u001b[0m \u001b[1m155s\u001b[0m 346ms/step - accuracy: 0.5526 - loss: 1.1723 - val_accuracy: 0.5876 - val_loss: 1.0832\n",
      "Epoch 18/50\n",
      "\u001b[1m449/449\u001b[0m \u001b[32m━━━━━━━━━━━━━━━━━━━━\u001b[0m\u001b[37m\u001b[0m \u001b[1m155s\u001b[0m 346ms/step - accuracy: 0.5619 - loss: 1.1503 - val_accuracy: 0.4790 - val_loss: 1.6148\n",
      "Epoch 19/50\n",
      "\u001b[1m449/449\u001b[0m \u001b[32m━━━━━━━━━━━━━━━━━━━━\u001b[0m\u001b[37m\u001b[0m \u001b[1m0s\u001b[0m 333ms/step - accuracy: 0.5706 - loss: 1.1490"
     ]
    },
    {
     "name": "stderr",
     "output_type": "stream",
     "text": [
      "WARNING:absl:You are saving your model as an HDF5 file via `model.save()` or `keras.saving.save_model(model)`. This file format is considered legacy. We recommend using instead the native Keras format, e.g. `model.save('my_model.keras')` or `keras.saving.save_model(model, 'my_model.keras')`. \n"
     ]
    },
    {
     "name": "stdout",
     "output_type": "stream",
     "text": [
      "\u001b[1m449/449\u001b[0m \u001b[32m━━━━━━━━━━━━━━━━━━━━\u001b[0m\u001b[37m\u001b[0m \u001b[1m156s\u001b[0m 348ms/step - accuracy: 0.5706 - loss: 1.1490 - val_accuracy: 0.6092 - val_loss: 1.0531\n",
      "Epoch 20/50\n",
      "\u001b[1m449/449\u001b[0m \u001b[32m━━━━━━━━━━━━━━━━━━━━\u001b[0m\u001b[37m\u001b[0m \u001b[1m156s\u001b[0m 347ms/step - accuracy: 0.5685 - loss: 1.1415 - val_accuracy: 0.4221 - val_loss: 1.7724\n",
      "Epoch 21/50\n",
      "\u001b[1m449/449\u001b[0m \u001b[32m━━━━━━━━━━━━━━━━━━━━\u001b[0m\u001b[37m\u001b[0m \u001b[1m155s\u001b[0m 345ms/step - accuracy: 0.5717 - loss: 1.1427 - val_accuracy: 0.5942 - val_loss: 1.0840\n",
      "Epoch 22/50\n",
      "\u001b[1m449/449\u001b[0m \u001b[32m━━━━━━━━━━━━━━━━━━━━\u001b[0m\u001b[37m\u001b[0m \u001b[1m155s\u001b[0m 346ms/step - accuracy: 0.5707 - loss: 1.1299 - val_accuracy: 0.6034 - val_loss: 1.0631\n",
      "Epoch 23/50\n",
      "\u001b[1m449/449\u001b[0m \u001b[32m━━━━━━━━━━━━━━━━━━━━\u001b[0m\u001b[37m\u001b[0m \u001b[1m0s\u001b[0m 333ms/step - accuracy: 0.5750 - loss: 1.1217"
     ]
    },
    {
     "name": "stderr",
     "output_type": "stream",
     "text": [
      "WARNING:absl:You are saving your model as an HDF5 file via `model.save()` or `keras.saving.save_model(model)`. This file format is considered legacy. We recommend using instead the native Keras format, e.g. `model.save('my_model.keras')` or `keras.saving.save_model(model, 'my_model.keras')`. \n"
     ]
    },
    {
     "name": "stdout",
     "output_type": "stream",
     "text": [
      "\u001b[1m449/449\u001b[0m \u001b[32m━━━━━━━━━━━━━━━━━━━━\u001b[0m\u001b[37m\u001b[0m \u001b[1m156s\u001b[0m 348ms/step - accuracy: 0.5750 - loss: 1.1217 - val_accuracy: 0.6094 - val_loss: 1.0493\n",
      "Epoch 24/50\n",
      "\u001b[1m449/449\u001b[0m \u001b[32m━━━━━━━━━━━━━━━━━━━━\u001b[0m\u001b[37m\u001b[0m \u001b[1m155s\u001b[0m 346ms/step - accuracy: 0.5787 - loss: 1.1138 - val_accuracy: 0.6094 - val_loss: 1.1160\n",
      "Epoch 25/50\n",
      "\u001b[1m449/449\u001b[0m \u001b[32m━━━━━━━━━━━━━━━━━━━━\u001b[0m\u001b[37m\u001b[0m \u001b[1m156s\u001b[0m 347ms/step - accuracy: 0.5768 - loss: 1.1086 - val_accuracy: 0.5709 - val_loss: 1.2158\n",
      "Epoch 26/50\n",
      "\u001b[1m449/449\u001b[0m \u001b[32m━━━━━━━━━━━━━━━━━━━━\u001b[0m\u001b[37m\u001b[0m \u001b[1m0s\u001b[0m 332ms/step - accuracy: 0.5906 - loss: 1.0909"
     ]
    },
    {
     "name": "stderr",
     "output_type": "stream",
     "text": [
      "WARNING:absl:You are saving your model as an HDF5 file via `model.save()` or `keras.saving.save_model(model)`. This file format is considered legacy. We recommend using instead the native Keras format, e.g. `model.save('my_model.keras')` or `keras.saving.save_model(model, 'my_model.keras')`. \n"
     ]
    },
    {
     "name": "stdout",
     "output_type": "stream",
     "text": [
      "\u001b[1m449/449\u001b[0m \u001b[32m━━━━━━━━━━━━━━━━━━━━\u001b[0m\u001b[37m\u001b[0m \u001b[1m156s\u001b[0m 347ms/step - accuracy: 0.5906 - loss: 1.0910 - val_accuracy: 0.6230 - val_loss: 1.0207\n",
      "Epoch 27/50\n",
      "\u001b[1m449/449\u001b[0m \u001b[32m━━━━━━━━━━━━━━━━━━━━\u001b[0m\u001b[37m\u001b[0m \u001b[1m156s\u001b[0m 347ms/step - accuracy: 0.5902 - loss: 1.0876 - val_accuracy: 0.5396 - val_loss: 1.2265\n",
      "Epoch 28/50\n",
      "\u001b[1m449/449\u001b[0m \u001b[32m━━━━━━━━━━━━━━━━━━━━\u001b[0m\u001b[37m\u001b[0m \u001b[1m155s\u001b[0m 346ms/step - accuracy: 0.5760 - loss: 1.1123 - val_accuracy: 0.5965 - val_loss: 1.0935\n",
      "Epoch 29/50\n",
      "\u001b[1m449/449\u001b[0m \u001b[32m━━━━━━━━━━━━━━━━━━━━\u001b[0m\u001b[37m\u001b[0m \u001b[1m155s\u001b[0m 346ms/step - accuracy: 0.5922 - loss: 1.0792 - val_accuracy: 0.5805 - val_loss: 1.1170\n",
      "Epoch 30/50\n",
      "\u001b[1m449/449\u001b[0m \u001b[32m━━━━━━━━━━━━━━━━━━━━\u001b[0m\u001b[37m\u001b[0m \u001b[1m156s\u001b[0m 347ms/step - accuracy: 0.5956 - loss: 1.0807 - val_accuracy: 0.6076 - val_loss: 1.0500\n",
      "Epoch 31/50\n",
      "\u001b[1m449/449\u001b[0m \u001b[32m━━━━━━━━━━━━━━━━━━━━\u001b[0m\u001b[37m\u001b[0m \u001b[1m156s\u001b[0m 347ms/step - accuracy: 0.5978 - loss: 1.0645 - val_accuracy: 0.6028 - val_loss: 1.1402\n",
      "Epoch 32/50\n",
      "\u001b[1m449/449\u001b[0m \u001b[32m━━━━━━━━━━━━━━━━━━━━\u001b[0m\u001b[37m\u001b[0m \u001b[1m156s\u001b[0m 347ms/step - accuracy: 0.5965 - loss: 1.0645 - val_accuracy: 0.6055 - val_loss: 1.0777\n",
      "Epoch 33/50\n",
      "\u001b[1m449/449\u001b[0m \u001b[32m━━━━━━━━━━━━━━━━━━━━\u001b[0m\u001b[37m\u001b[0m \u001b[1m156s\u001b[0m 347ms/step - accuracy: 0.5987 - loss: 1.0575 - val_accuracy: 0.5798 - val_loss: 1.1161\n",
      "Epoch 34/50\n",
      "\u001b[1m449/449\u001b[0m \u001b[32m━━━━━━━━━━━━━━━━━━━━\u001b[0m\u001b[37m\u001b[0m \u001b[1m0s\u001b[0m 333ms/step - accuracy: 0.5994 - loss: 1.0645"
     ]
    },
    {
     "name": "stderr",
     "output_type": "stream",
     "text": [
      "WARNING:absl:You are saving your model as an HDF5 file via `model.save()` or `keras.saving.save_model(model)`. This file format is considered legacy. We recommend using instead the native Keras format, e.g. `model.save('my_model.keras')` or `keras.saving.save_model(model, 'my_model.keras')`. \n"
     ]
    },
    {
     "name": "stdout",
     "output_type": "stream",
     "text": [
      "\u001b[1m449/449\u001b[0m \u001b[32m━━━━━━━━━━━━━━━━━━━━\u001b[0m\u001b[37m\u001b[0m \u001b[1m156s\u001b[0m 347ms/step - accuracy: 0.5994 - loss: 1.0645 - val_accuracy: 0.6305 - val_loss: 0.9966\n",
      "Epoch 35/50\n",
      "\u001b[1m449/449\u001b[0m \u001b[32m━━━━━━━━━━━━━━━━━━━━\u001b[0m\u001b[37m\u001b[0m \u001b[1m155s\u001b[0m 346ms/step - accuracy: 0.6060 - loss: 1.0452 - val_accuracy: 0.6220 - val_loss: 1.0697\n",
      "Epoch 36/50\n",
      "\u001b[1m449/449\u001b[0m \u001b[32m━━━━━━━━━━━━━━━━━━━━\u001b[0m\u001b[37m\u001b[0m \u001b[1m156s\u001b[0m 346ms/step - accuracy: 0.6080 - loss: 1.0426 - val_accuracy: 0.6197 - val_loss: 1.0464\n",
      "Epoch 37/50\n",
      "\u001b[1m449/449\u001b[0m \u001b[32m━━━━━━━━━━━━━━━━━━━━\u001b[0m\u001b[37m\u001b[0m \u001b[1m0s\u001b[0m 333ms/step - accuracy: 0.6118 - loss: 1.0302"
     ]
    },
    {
     "name": "stderr",
     "output_type": "stream",
     "text": [
      "WARNING:absl:You are saving your model as an HDF5 file via `model.save()` or `keras.saving.save_model(model)`. This file format is considered legacy. We recommend using instead the native Keras format, e.g. `model.save('my_model.keras')` or `keras.saving.save_model(model, 'my_model.keras')`. \n"
     ]
    },
    {
     "name": "stdout",
     "output_type": "stream",
     "text": [
      "\u001b[1m449/449\u001b[0m \u001b[32m━━━━━━━━━━━━━━━━━━━━\u001b[0m\u001b[37m\u001b[0m \u001b[1m156s\u001b[0m 348ms/step - accuracy: 0.6118 - loss: 1.0302 - val_accuracy: 0.6375 - val_loss: 1.0020\n",
      "Epoch 38/50\n",
      "\u001b[1m449/449\u001b[0m \u001b[32m━━━━━━━━━━━━━━━━━━━━\u001b[0m\u001b[37m\u001b[0m \u001b[1m156s\u001b[0m 348ms/step - accuracy: 0.6113 - loss: 1.0229 - val_accuracy: 0.5896 - val_loss: 1.1878\n",
      "Epoch 39/50\n",
      "\u001b[1m449/449\u001b[0m \u001b[32m━━━━━━━━━━━━━━━━━━━━\u001b[0m\u001b[37m\u001b[0m \u001b[1m156s\u001b[0m 348ms/step - accuracy: 0.6090 - loss: 1.0414 - val_accuracy: 0.6374 - val_loss: 1.0098\n",
      "Epoch 40/50\n",
      "\u001b[1m449/449\u001b[0m \u001b[32m━━━━━━━━━━━━━━━━━━━━\u001b[0m\u001b[37m\u001b[0m \u001b[1m156s\u001b[0m 348ms/step - accuracy: 0.6174 - loss: 1.0277 - val_accuracy: 0.6311 - val_loss: 0.9986\n",
      "Epoch 41/50\n",
      "\u001b[1m449/449\u001b[0m \u001b[32m━━━━━━━━━━━━━━━━━━━━\u001b[0m\u001b[37m\u001b[0m \u001b[1m156s\u001b[0m 348ms/step - accuracy: 0.6068 - loss: 1.0420 - val_accuracy: 0.6346 - val_loss: 0.9812\n",
      "Epoch 42/50\n",
      "\u001b[1m449/449\u001b[0m \u001b[32m━━━━━━━━━━━━━━━━━━━━\u001b[0m\u001b[37m\u001b[0m \u001b[1m156s\u001b[0m 348ms/step - accuracy: 0.6092 - loss: 1.0346 - val_accuracy: 0.5943 - val_loss: 1.1063\n",
      "Epoch 43/50\n",
      "\u001b[1m449/449\u001b[0m \u001b[32m━━━━━━━━━━━━━━━━━━━━\u001b[0m\u001b[37m\u001b[0m \u001b[1m157s\u001b[0m 349ms/step - accuracy: 0.6132 - loss: 1.0234 - val_accuracy: 0.5939 - val_loss: 1.1625\n",
      "Epoch 44/50\n",
      "\u001b[1m449/449\u001b[0m \u001b[32m━━━━━━━━━━━━━━━━━━━━\u001b[0m\u001b[37m\u001b[0m \u001b[1m156s\u001b[0m 348ms/step - accuracy: 0.6208 - loss: 1.0049 - val_accuracy: 0.6322 - val_loss: 1.0017\n",
      "Epoch 45/50\n",
      "\u001b[1m449/449\u001b[0m \u001b[32m━━━━━━━━━━━━━━━━━━━━\u001b[0m\u001b[37m\u001b[0m \u001b[1m156s\u001b[0m 347ms/step - accuracy: 0.6251 - loss: 1.0099 - val_accuracy: 0.5646 - val_loss: 1.4152\n",
      "Epoch 46/50\n",
      "\u001b[1m449/449\u001b[0m \u001b[32m━━━━━━━━━━━━━━━━━━━━\u001b[0m\u001b[37m\u001b[0m \u001b[1m156s\u001b[0m 348ms/step - accuracy: 0.6168 - loss: 1.0240 - val_accuracy: 0.6304 - val_loss: 0.9920\n",
      "Epoch 47/50\n",
      "\u001b[1m449/449\u001b[0m \u001b[32m━━━━━━━━━━━━━━━━━━━━\u001b[0m\u001b[37m\u001b[0m \u001b[1m156s\u001b[0m 347ms/step - accuracy: 0.6207 - loss: 1.0032 - val_accuracy: 0.5517 - val_loss: 1.1928\n",
      "Epoch 48/50\n",
      "\u001b[1m449/449\u001b[0m \u001b[32m━━━━━━━━━━━━━━━━━━━━\u001b[0m\u001b[37m\u001b[0m \u001b[1m156s\u001b[0m 348ms/step - accuracy: 0.6227 - loss: 1.0082 - val_accuracy: 0.6293 - val_loss: 1.0068\n",
      "Epoch 49/50\n",
      "\u001b[1m449/449\u001b[0m \u001b[32m━━━━━━━━━━━━━━━━━━━━\u001b[0m\u001b[37m\u001b[0m \u001b[1m0s\u001b[0m 328ms/step - accuracy: 0.6249 - loss: 0.9940"
     ]
    },
    {
     "name": "stderr",
     "output_type": "stream",
     "text": [
      "WARNING:absl:You are saving your model as an HDF5 file via `model.save()` or `keras.saving.save_model(model)`. This file format is considered legacy. We recommend using instead the native Keras format, e.g. `model.save('my_model.keras')` or `keras.saving.save_model(model, 'my_model.keras')`. \n"
     ]
    },
    {
     "name": "stdout",
     "output_type": "stream",
     "text": [
      "\u001b[1m449/449\u001b[0m \u001b[32m━━━━━━━━━━━━━━━━━━━━\u001b[0m\u001b[37m\u001b[0m \u001b[1m154s\u001b[0m 343ms/step - accuracy: 0.6249 - loss: 0.9940 - val_accuracy: 0.6397 - val_loss: 0.9704\n",
      "Epoch 50/50\n",
      "\u001b[1m449/449\u001b[0m \u001b[32m━━━━━━━━━━━━━━━━━━━━\u001b[0m\u001b[37m\u001b[0m \u001b[1m0s\u001b[0m 327ms/step - accuracy: 0.6326 - loss: 0.9683"
     ]
    },
    {
     "name": "stderr",
     "output_type": "stream",
     "text": [
      "WARNING:absl:You are saving your model as an HDF5 file via `model.save()` or `keras.saving.save_model(model)`. This file format is considered legacy. We recommend using instead the native Keras format, e.g. `model.save('my_model.keras')` or `keras.saving.save_model(model, 'my_model.keras')`. \n"
     ]
    },
    {
     "name": "stdout",
     "output_type": "stream",
     "text": [
      "\u001b[1m449/449\u001b[0m \u001b[32m━━━━━━━━━━━━━━━━━━━━\u001b[0m\u001b[37m\u001b[0m \u001b[1m154s\u001b[0m 342ms/step - accuracy: 0.6326 - loss: 0.9683 - val_accuracy: 0.6452 - val_loss: 0.9676\n"
     ]
    },
    {
     "name": "stderr",
     "output_type": "stream",
     "text": [
      "WARNING:absl:You are saving your model as an HDF5 file via `model.save()` or `keras.saving.save_model(model)`. This file format is considered legacy. We recommend using instead the native Keras format, e.g. `model.save('my_model.keras')` or `keras.saving.save_model(model, 'my_model.keras')`. \n"
     ]
    },
    {
     "name": "stdout",
     "output_type": "stream",
     "text": [
      "Model saved to models/emotion_model.h5\n"
     ]
    }
   ],
   "source": [
    "import os\n",
    "from tensorflow.keras.models import Sequential\n",
    "from tensorflow.keras.layers import Conv2D, MaxPooling2D, Dense, Flatten, Dropout, BatchNormalization\n",
    "from tensorflow.keras.optimizers import Adam\n",
    "from tensorflow.keras.callbacks import EarlyStopping, ModelCheckpoint\n",
    "\n",
    "def build_model():\n",
    "    \"\"\"Define CNN architecture for emotion detection.\"\"\"\n",
    "    model = Sequential([\n",
    "        Conv2D(64, (3, 3), activation='relu', padding='same', input_shape=(48, 48, 1)),\n",
    "        BatchNormalization(),\n",
    "        MaxPooling2D((2, 2)),\n",
    "        Dropout(0.25),\n",
    "\n",
    "        Conv2D(128, (3, 3), activation='relu', padding='same'),\n",
    "        BatchNormalization(),\n",
    "        MaxPooling2D((2, 2)),\n",
    "        Dropout(0.25),\n",
    "\n",
    "        Conv2D(256, (3, 3), activation='relu', padding='same'),\n",
    "        BatchNormalization(),\n",
    "        MaxPooling2D((2, 2)),\n",
    "        Dropout(0.25),\n",
    "\n",
    "        Flatten(),\n",
    "        Dense(512, activation='relu'),\n",
    "        BatchNormalization(),\n",
    "        Dropout(0.5),\n",
    "        Dense(7, activation='softmax')\n",
    "    ])\n",
    "    model.compile(\n",
    "        optimizer=Adam(learning_rate=0.001),\n",
    "        loss='categorical_crossentropy',\n",
    "        metrics=['accuracy']\n",
    "    )\n",
    "    return model\n",
    "\n",
    "# Create models directory\n",
    "if not os.path.exists('models'):\n",
    "    os.makedirs('models')\n",
    "\n",
    "# Train model\n",
    "model = build_model()\n",
    "callbacks = [\n",
    "    EarlyStopping(patience=10, restore_best_weights=True),\n",
    "    ModelCheckpoint('models/emotion_model.h5', save_best_only=True, monitor='val_accuracy', save_weights_only=False)\n",
    "]\n",
    "\n",
    "# Assume X_train, y_train, X_val, y_val, datagen are defined from previous cells\n",
    "history = model.fit(\n",
    "    datagen.flow(X_train, y_train, batch_size=64),\n",
    "    validation_data=(X_val, y_val),\n",
    "    epochs=50,\n",
    "    callbacks=callbacks\n",
    ")\n",
    "\n",
    "# Save model with optimizer state\n",
    "model.save('models/emotion_model.h5', include_optimizer=True)\n",
    "\n",
    "print(\"Model saved to models/emotion_model.h5\")"
   ]
  },
  {
   "cell_type": "markdown",
   "id": "c54e59e9",
   "metadata": {},
   "source": [
    "# Custom Emotion Detection Function\n",
    "\n",
    "Defines a function to detect emotions from webcam frames using the trained model. Replaces DeepFace in the app."
   ]
  },
  {
   "cell_type": "code",
   "execution_count": 5,
   "id": "49a701ab",
   "metadata": {},
   "outputs": [
    {
     "name": "stdout",
     "output_type": "stream",
     "text": [
      "Debug: Webcam frame captured successfully.\n"
     ]
    },
    {
     "name": "stderr",
     "output_type": "stream",
     "text": [
      "WARNING:absl:Compiled the loaded model, but the compiled metrics have yet to be built. `model.compile_metrics` will be empty until you train or evaluate the model.\n"
     ]
    },
    {
     "name": "stdout",
     "output_type": "stream",
     "text": [
      "Debug: MediaPipe bbox - x: 284, y: 193, width: 134, height: 134\n",
      "Debug: Face preprocessed successfully.\n",
      "Debug: Probabilities: [9.0122700e-02 4.1191979e-05 6.3502207e-02 2.0463254e-02 4.5105481e-01\n",
      " 9.8253163e-03 3.6499047e-01]\n",
      "Debug: Predicted emotion: Sad\n",
      "Test detection: Sad\n"
     ]
    }
   ],
   "source": [
    "# Code\n",
    "import cv2\n",
    "import numpy as np\n",
    "import mediapipe as mp\n",
    "from tensorflow.keras.models import load_model\n",
    "from tensorflow.keras.optimizers import Adam\n",
    "\n",
    "def preprocess_frame(frame, target_size=(48, 48)):\n",
    "    \"\"\"Preprocess a frame for emotion detection with robust face detection.\"\"\"\n",
    "    gray = cv2.cvtColor(frame, cv2.COLOR_BGR2GRAY)\n",
    "    h, w = frame.shape[:2]\n",
    "\n",
    "    # Initialize MediaPipe face detection\n",
    "    mp_face_detection = mp.solutions.face_detection\n",
    "    with mp_face_detection.FaceDetection(min_detection_confidence=0.5) as face_detection:\n",
    "        rgb_frame = cv2.cvtColor(frame, cv2.COLOR_BGR2RGB)\n",
    "        results = face_detection.process(rgb_frame)\n",
    "        if results.detections:\n",
    "            detection = results.detections[0]\n",
    "            bbox = detection.location_data.relative_bounding_box\n",
    "            # Convert relative to absolute coordinates\n",
    "            x = int(bbox.xmin * w)\n",
    "            y = int(bbox.ymin * h)\n",
    "            width = int(bbox.width * w)\n",
    "            height = int(bbox.height * h)\n",
    "\n",
    "            # Validate and clip coordinates\n",
    "            x = max(0, min(x, w-1))\n",
    "            y = max(0, min(y, h-1))\n",
    "            width = max(1, min(width, w-x))\n",
    "            height = max(1, min(height, h-y))\n",
    "\n",
    "            print(f\"Debug: MediaPipe bbox - x: {x}, y: {y}, width: {width}, height: {height}\")\n",
    "\n",
    "            # Extract face region\n",
    "            try:\n",
    "                face = gray[y:y+height, x:x+width]\n",
    "                if face.size == 0:\n",
    "                    print(\"Debug: Face region is empty after extraction.\")\n",
    "                    return None\n",
    "                face = cv2.resize(face, target_size)\n",
    "                face = face.astype('float32') / 255.0\n",
    "                face = face.reshape(1, 48, 48, 1)\n",
    "                print(\"Debug: Face preprocessed successfully.\")\n",
    "                return face\n",
    "            except Exception as e:\n",
    "                print(f\"Debug: Error preprocessing face: {e}\")\n",
    "                return None\n",
    "        else:\n",
    "            # Try Haar Cascade as fallback\n",
    "            print(\"Debug: No face detected with MediaPipe. Trying Haar...\")\n",
    "            face_cascade = cv2.CascadeClassifier(cv2.data.haarcascades + 'haarcascade_frontalface_default.xml')\n",
    "            faces = face_cascade.detectMultiScale(gray, scaleFactor=1.1, minNeighbors=3, minSize=(30, 30))\n",
    "\n",
    "            if len(faces) > 0:\n",
    "                print(\"Debug: Face detected with Haar Cascade.\")\n",
    "                (x, y, w, h) = faces[0]\n",
    "                try:\n",
    "                    face = gray[y:y+h, x:x+w]\n",
    "                    if face.size == 0:\n",
    "                        print(\"Debug: Haar face region is empty.\")\n",
    "                        return None\n",
    "                    face = cv2.resize(face, target_size)\n",
    "                    face = face.astype('float32') / 255.0\n",
    "                    face = face.reshape(1, 48, 48, 1)\n",
    "                    print(\"Debug: Face preprocessed successfully.\")\n",
    "                    return face\n",
    "                except Exception as e:\n",
    "                    print(f\"Debug: Error preprocessing Haar face: {e}\")\n",
    "                    return None\n",
    "            else:\n",
    "                print(\"Debug: No faces detected by either method.\")\n",
    "                return None\n",
    "\n",
    "def detect_emotion_with_custom_model(frame):\n",
    "    \"\"\"Detect emotion using the custom model.\"\"\"\n",
    "    try:\n",
    "        model = load_model('models/emotion_model.h5')\n",
    "        # Compile as fallback if model wasn't saved with optimizer\n",
    "        model.compile(optimizer=Adam(learning_rate=0.001), loss='categorical_crossentropy', metrics=['accuracy'])\n",
    "        emotion_labels = ['Angry', 'Disgust', 'Fear', 'Happy', 'Sad', 'Surprise', 'Neutral']\n",
    "\n",
    "        processed_frame = preprocess_frame(frame)\n",
    "        if processed_frame is None:\n",
    "            return \"Neutral\"\n",
    "\n",
    "        prediction = model.predict(processed_frame, verbose=0)\n",
    "        probabilities = prediction[0]\n",
    "        dominant_emotion = emotion_labels[np.argmax(probabilities)]\n",
    "        print(f\"Debug: Probabilities: {probabilities}\")\n",
    "        print(f\"Debug: Predicted emotion: {dominant_emotion}\")\n",
    "\n",
    "        return dominant_emotion\n",
    "    except Exception as e:\n",
    "        print(f\"Custom model error: {e}\")\n",
    "        return \"Neutral\"\n",
    "\n",
    "# Test the function with enhanced debugging\n",
    "cap = cv2.VideoCapture(0)\n",
    "if not cap.isOpened():\n",
    "    print(\"Error: Cannot open webcam. Try index 1 or check connection.\")\n",
    "else:\n",
    "    ret, frame = cap.read()\n",
    "    if ret:\n",
    "        print(\"Debug: Webcam frame captured successfully.\")\n",
    "        mood = detect_emotion_with_custom_model(frame)\n",
    "        print(f\"Test detection: {mood}\")\n",
    "    else:\n",
    "        print(\"Error: Failed to capture frame from webcam.\")\n",
    "    cap.release()\n",
    "cv2.destroyAllWindows()"
   ]
  },
  {
   "cell_type": "markdown",
   "id": "517f8ff5",
   "metadata": {},
   "source": [
    "# Mood-Based Music Player with Custom Model\n",
    "\n",
    "Integrates the custom emotion detection model into your gesture-controlled music player. Replaces DeepFace while preserving all functionality.\n",
    "\n",
    "**Note**: Update `song_folder` if running in Colab (e.g., mount Google Drive)."
   ]
  },
  {
   "cell_type": "code",
   "execution_count": null,
   "id": "2b8d3889",
   "metadata": {},
   "outputs": [
    {
     "name": "stderr",
     "output_type": "stream",
     "text": [
      "WARNING:absl:Compiled the loaded model, but the compiled metrics have yet to be built. `model.compile_metrics` will be empty until you train or evaluate the model.\n"
     ]
    },
    {
     "name": "stdout",
     "output_type": "stream",
     "text": [
      "Debug: MediaPipe bbox - x: 252, y: 200, width: 130, height: 130\n",
      "Debug: Face preprocessed successfully.\n",
      "Debug: Probabilities: [1.9050547e-01 7.9397156e-05 9.7797848e-02 4.1886175e-04 4.1116765e-01\n",
      " 5.5630632e-02 2.4440005e-01]\n",
      "Debug: Predicted emotion: Sad\n"
     ]
    },
    {
     "name": "stderr",
     "output_type": "stream",
     "text": [
      "WARNING:absl:Compiled the loaded model, but the compiled metrics have yet to be built. `model.compile_metrics` will be empty until you train or evaluate the model.\n"
     ]
    },
    {
     "name": "stdout",
     "output_type": "stream",
     "text": [
      "Debug: MediaPipe bbox - x: 256, y: 203, width: 129, height: 129\n",
      "Debug: Face preprocessed successfully.\n",
      "Debug: Probabilities: [1.9021533e-01 7.3621683e-05 6.8072408e-02 1.4495332e-04 4.8309830e-01\n",
      " 2.5197381e-02 2.3319791e-01]\n",
      "Debug: Predicted emotion: Sad\n"
     ]
    },
    {
     "name": "stderr",
     "output_type": "stream",
     "text": [
      "WARNING:absl:Compiled the loaded model, but the compiled metrics have yet to be built. `model.compile_metrics` will be empty until you train or evaluate the model.\n"
     ]
    },
    {
     "name": "stdout",
     "output_type": "stream",
     "text": [
      "Debug: MediaPipe bbox - x: 258, y: 203, width: 127, height: 127\n",
      "Debug: Face preprocessed successfully.\n",
      "Debug: Probabilities: [1.5240650e-01 1.7791954e-05 6.1307717e-02 4.8780351e-04 5.1367289e-01\n",
      " 5.0065848e-03 2.6710075e-01]\n",
      "Debug: Predicted emotion: Sad\n"
     ]
    },
    {
     "name": "stderr",
     "output_type": "stream",
     "text": [
      "WARNING:absl:Compiled the loaded model, but the compiled metrics have yet to be built. `model.compile_metrics` will be empty until you train or evaluate the model.\n"
     ]
    },
    {
     "name": "stdout",
     "output_type": "stream",
     "text": [
      "Debug: MediaPipe bbox - x: 285, y: 203, width: 127, height: 127\n",
      "Debug: Face preprocessed successfully.\n",
      "WARNING:tensorflow:5 out of the last 5 calls to <function TensorFlowTrainer.make_predict_function.<locals>.one_step_on_data_distributed at 0x0000024D23A008B0> triggered tf.function retracing. Tracing is expensive and the excessive number of tracings could be due to (1) creating @tf.function repeatedly in a loop, (2) passing tensors with different shapes, (3) passing Python objects instead of tensors. For (1), please define your @tf.function outside of the loop. For (2), @tf.function has reduce_retracing=True option that can avoid unnecessary retracing. For (3), please refer to https://www.tensorflow.org/guide/function#controlling_retracing and https://www.tensorflow.org/api_docs/python/tf/function for  more details.\n"
     ]
    },
    {
     "name": "stderr",
     "output_type": "stream",
     "text": [
      "WARNING:tensorflow:5 out of the last 5 calls to <function TensorFlowTrainer.make_predict_function.<locals>.one_step_on_data_distributed at 0x0000024D23A008B0> triggered tf.function retracing. Tracing is expensive and the excessive number of tracings could be due to (1) creating @tf.function repeatedly in a loop, (2) passing tensors with different shapes, (3) passing Python objects instead of tensors. For (1), please define your @tf.function outside of the loop. For (2), @tf.function has reduce_retracing=True option that can avoid unnecessary retracing. For (3), please refer to https://www.tensorflow.org/guide/function#controlling_retracing and https://www.tensorflow.org/api_docs/python/tf/function for  more details.\n"
     ]
    },
    {
     "name": "stdout",
     "output_type": "stream",
     "text": [
      "Debug: Probabilities: [0.35808125 0.00049758 0.03155022 0.01178602 0.33105442 0.00967777\n",
      " 0.2573528 ]\n",
      "Debug: Predicted emotion: Angry\n"
     ]
    },
    {
     "name": "stderr",
     "output_type": "stream",
     "text": [
      "WARNING:absl:Compiled the loaded model, but the compiled metrics have yet to be built. `model.compile_metrics` will be empty until you train or evaluate the model.\n"
     ]
    },
    {
     "name": "stdout",
     "output_type": "stream",
     "text": [
      "Debug: MediaPipe bbox - x: 278, y: 204, width: 132, height: 132\n",
      "Debug: Face preprocessed successfully.\n",
      "WARNING:tensorflow:6 out of the last 6 calls to <function TensorFlowTrainer.make_predict_function.<locals>.one_step_on_data_distributed at 0x0000024D26180280> triggered tf.function retracing. Tracing is expensive and the excessive number of tracings could be due to (1) creating @tf.function repeatedly in a loop, (2) passing tensors with different shapes, (3) passing Python objects instead of tensors. For (1), please define your @tf.function outside of the loop. For (2), @tf.function has reduce_retracing=True option that can avoid unnecessary retracing. For (3), please refer to https://www.tensorflow.org/guide/function#controlling_retracing and https://www.tensorflow.org/api_docs/python/tf/function for  more details.\n"
     ]
    },
    {
     "name": "stderr",
     "output_type": "stream",
     "text": [
      "WARNING:tensorflow:6 out of the last 6 calls to <function TensorFlowTrainer.make_predict_function.<locals>.one_step_on_data_distributed at 0x0000024D26180280> triggered tf.function retracing. Tracing is expensive and the excessive number of tracings could be due to (1) creating @tf.function repeatedly in a loop, (2) passing tensors with different shapes, (3) passing Python objects instead of tensors. For (1), please define your @tf.function outside of the loop. For (2), @tf.function has reduce_retracing=True option that can avoid unnecessary retracing. For (3), please refer to https://www.tensorflow.org/guide/function#controlling_retracing and https://www.tensorflow.org/api_docs/python/tf/function for  more details.\n"
     ]
    },
    {
     "name": "stdout",
     "output_type": "stream",
     "text": [
      "Debug: Probabilities: [1.94470510e-01 8.02389695e-05 1.56873222e-02 1.07700974e-01\n",
      " 3.26934427e-01 8.36814567e-03 3.46758366e-01]\n",
      "Debug: Predicted emotion: Neutral\n"
     ]
    },
    {
     "name": "stderr",
     "output_type": "stream",
     "text": [
      "WARNING:absl:Compiled the loaded model, but the compiled metrics have yet to be built. `model.compile_metrics` will be empty until you train or evaluate the model.\n"
     ]
    },
    {
     "name": "stdout",
     "output_type": "stream",
     "text": [
      "Debug: MediaPipe bbox - x: 270, y: 197, width: 138, height: 138\n",
      "Debug: Face preprocessed successfully.\n",
      "Debug: Probabilities: [3.3817026e-01 1.7938927e-04 2.7358271e-02 1.4914510e-01 2.8756613e-01\n",
      " 1.0963646e-02 1.8661723e-01]\n",
      "Debug: Predicted emotion: Angry\n"
     ]
    },
    {
     "name": "stderr",
     "output_type": "stream",
     "text": [
      "WARNING:absl:Compiled the loaded model, but the compiled metrics have yet to be built. `model.compile_metrics` will be empty until you train or evaluate the model.\n"
     ]
    },
    {
     "name": "stdout",
     "output_type": "stream",
     "text": [
      "Debug: MediaPipe bbox - x: 266, y: 190, width: 140, height: 140\n",
      "Debug: Face preprocessed successfully.\n",
      "Debug: Probabilities: [1.9643424e-01 4.1772661e-04 2.4313197e-02 5.6787066e-02 1.9229713e-01\n",
      " 1.5238583e-02 5.1451206e-01]\n",
      "Debug: Predicted emotion: Neutral\n",
      "Final Mood Detected: Sad\n"
     ]
    },
    {
     "name": "stderr",
     "output_type": "stream",
     "text": [
      "WARNING:absl:Compiled the loaded model, but the compiled metrics have yet to be built. `model.compile_metrics` will be empty until you train or evaluate the model.\n"
     ]
    },
    {
     "name": "stdout",
     "output_type": "stream",
     "text": [
      "Debug: MediaPipe bbox - x: 267, y: 203, width: 124, height: 124\n",
      "Debug: Face preprocessed successfully.\n",
      "Debug: Probabilities: [1.1939933e-01 3.4093289e-05 4.8249345e-02 3.3916932e-04 4.0100601e-01\n",
      " 2.0615840e-02 4.1035622e-01]\n",
      "Debug: Predicted emotion: Neutral\n"
     ]
    },
    {
     "name": "stderr",
     "output_type": "stream",
     "text": [
      "WARNING:absl:Compiled the loaded model, but the compiled metrics have yet to be built. `model.compile_metrics` will be empty until you train or evaluate the model.\n"
     ]
    },
    {
     "name": "stdout",
     "output_type": "stream",
     "text": [
      "Debug: MediaPipe bbox - x: 267, y: 204, width: 128, height: 128\n",
      "Debug: Face preprocessed successfully.\n",
      "Debug: Probabilities: [1.01067044e-01 4.07615371e-05 5.90969920e-02 3.42772517e-04\n",
      " 3.18888575e-01 1.02259837e-01 4.18304116e-01]\n",
      "Debug: Predicted emotion: Neutral\n"
     ]
    },
    {
     "name": "stderr",
     "output_type": "stream",
     "text": [
      "WARNING:absl:Compiled the loaded model, but the compiled metrics have yet to be built. `model.compile_metrics` will be empty until you train or evaluate the model.\n"
     ]
    },
    {
     "name": "stdout",
     "output_type": "stream",
     "text": [
      "Debug: MediaPipe bbox - x: 266, y: 201, width: 126, height: 126\n",
      "Debug: Face preprocessed successfully.\n",
      "Debug: Probabilities: [1.5600370e-01 6.7018249e-05 5.0263122e-02 1.1860123e-04 4.7139257e-01\n",
      " 1.8272214e-02 3.0388281e-01]\n",
      "Debug: Predicted emotion: Sad\n"
     ]
    },
    {
     "name": "stderr",
     "output_type": "stream",
     "text": [
      "WARNING:absl:Compiled the loaded model, but the compiled metrics have yet to be built. `model.compile_metrics` will be empty until you train or evaluate the model.\n"
     ]
    },
    {
     "name": "stdout",
     "output_type": "stream",
     "text": [
      "Debug: MediaPipe bbox - x: 269, y: 195, width: 129, height: 129\n",
      "Debug: Face preprocessed successfully.\n",
      "Debug: Probabilities: [0.20660691 0.00093107 0.03156516 0.00853356 0.33829376 0.01500246\n",
      " 0.39906704]\n",
      "Debug: Predicted emotion: Neutral\n"
     ]
    },
    {
     "name": "stderr",
     "output_type": "stream",
     "text": [
      "WARNING:absl:Compiled the loaded model, but the compiled metrics have yet to be built. `model.compile_metrics` will be empty until you train or evaluate the model.\n"
     ]
    },
    {
     "name": "stdout",
     "output_type": "stream",
     "text": [
      "Debug: MediaPipe bbox - x: 267, y: 191, width: 135, height: 135\n",
      "Debug: Face preprocessed successfully.\n",
      "Debug: Probabilities: [1.2758389e-01 8.5888125e-05 2.1903504e-02 4.8631313e-03 2.3981591e-01\n",
      " 1.3803833e-02 5.9194386e-01]\n",
      "Debug: Predicted emotion: Neutral\n"
     ]
    },
    {
     "name": "stderr",
     "output_type": "stream",
     "text": [
      "WARNING:absl:Compiled the loaded model, but the compiled metrics have yet to be built. `model.compile_metrics` will be empty until you train or evaluate the model.\n"
     ]
    },
    {
     "name": "stdout",
     "output_type": "stream",
     "text": [
      "Debug: MediaPipe bbox - x: 260, y: 188, width: 142, height: 142\n",
      "Debug: Face preprocessed successfully.\n",
      "Debug: Probabilities: [1.9433841e-01 1.0873115e-04 2.2018677e-02 1.1758401e-02 1.6282357e-01\n",
      " 2.3684053e-02 5.8526814e-01]\n",
      "Debug: Predicted emotion: Neutral\n",
      "Final Mood Detected: Neutral\n"
     ]
    }
   ],
   "source": [
    "# Paths\n",
    "song_folder = r\"C:\\Users\\Ayush\\Downloads\\songs\"  # Update for Colab if needed\n",
    "\n",
    "# Global variables\n",
    "current_song = None\n",
    "detected_mood = \"Neutral\"\n",
    "music_playing = False\n",
    "music_paused = False\n",
    "exit_flag = False\n",
    "current_volume = 0.5\n",
    "gesture_detection_enabled = True\n",
    "\n",
    "# Initialize MediaPipe\n",
    "mp_hands = mp.solutions.hands\n",
    "mp_drawing = mp.solutions.drawing_utils\n",
    "mp_drawing_styles = mp.solutions.drawing_styles\n",
    "mp_face_mesh = mp.solutions.face_mesh\n",
    "\n",
    "hands = mp_hands.Hands(\n",
    "    static_image_mode=False,\n",
    "    max_num_hands=2,\n",
    "    min_detection_confidence=0.6,\n",
    "    min_tracking_confidence=0.6\n",
    ")\n",
    "\n",
    "# Initialize pygame mixer\n",
    "pygame.mixer.init()\n",
    "\n",
    "# Emotion labels\n",
    "emotion_labels = ['Angry', 'Disgust', 'Fear', 'Happy', 'Sad', 'Surprise', 'Neutral']\n",
    "\n",
    "# Face classifier\n",
    "face_cascade = cv2.CascadeClassifier(cv2.data.haarcascades + 'haarcascade_frontalface_default.xml')\n",
    "\n",
    "# Gesture tracking variables\n",
    "prev_hand_positions = deque(maxlen=10)\n",
    "swipe_threshold = 0.15\n",
    "pinch_distances = deque(maxlen=5)\n",
    "last_gesture_time = 0\n",
    "gesture_cooldown = 0.8\n",
    "current_gesture = \"None\"\n",
    "debug_info = {}\n",
    "\n",
    "class GestureState:\n",
    "    def __init__(self):\n",
    "        self.swipe_start_x = None\n",
    "        self.swipe_in_progress = False\n",
    "        self.palm_shown = False\n",
    "        self.thumbs_up_shown = False\n",
    "        self.fist_shown = False\n",
    "        self.pinch_reference = None\n",
    "        self.last_recognized_gesture = None\n",
    "\n",
    "gesture_state = GestureState()\n",
    "\n",
    "def detect_mood():\n",
    "    global detected_mood\n",
    "    cap = cv2.VideoCapture(0)\n",
    "    status_var.set(\"Detecting Mood...\")\n",
    "    mood_var.set(\"Detecting...\")\n",
    "    update_mood_color(\"gray\")\n",
    "\n",
    "    with mp_face_mesh.FaceMesh(\n",
    "        min_detection_confidence=0.5,\n",
    "        min_tracking_confidence=0.5) as face_mesh:\n",
    "\n",
    "        start_time = time.time()\n",
    "        mood_counts = {}\n",
    "\n",
    "        while time.time() - start_time < 5:\n",
    "            ret, frame = cap.read()\n",
    "            if not ret:\n",
    "                break\n",
    "\n",
    "            frame = cv2.flip(frame, 1)\n",
    "            rgb_frame = cv2.cvtColor(frame, cv2.COLOR_BGR2RGB)\n",
    "            rgb_frame.flags.writeable = False\n",
    "            results = face_mesh.process(rgb_frame)\n",
    "            rgb_frame.flags.writeable = True\n",
    "            frame = cv2.cvtColor(rgb_frame, cv2.COLOR_RGB2BGR)\n",
    "\n",
    "            current_mood = detect_emotion_with_custom_model(frame)\n",
    "            if current_mood in mood_counts:\n",
    "                mood_counts[current_mood] += 1\n",
    "            else:\n",
    "                mood_counts[current_mood] = 1\n",
    "\n",
    "            detected_mood = current_mood\n",
    "            mood_var.set(f\"Mood: {detected_mood}\")\n",
    "            update_mood_color(detected_mood)\n",
    "\n",
    "            gray = cv2.cvtColor(frame, cv2.COLOR_BGR2GRAY)\n",
    "            faces = face_cascade.detectMultiScale(gray, 1.1, 5)\n",
    "            for (x, y, w, h) in faces:\n",
    "                cv2.rectangle(frame, (x, y), (x+w, y+h), (0, 255, 0), 2)\n",
    "\n",
    "            cv2.putText(frame, f\"Detecting mood: {detected_mood}\", (10, 30),\n",
    "                        cv2.FONT_HERSHEY_SIMPLEX, 0.7, (0, 0, 255), 2)\n",
    "\n",
    "            progress = min(100, int((time.time() - start_time) / 5 * 100))\n",
    "            cv2.rectangle(frame, (10, 50), (10 + int(progress * 2), 70), (0, 255, 0), -1)\n",
    "            cv2.rectangle(frame, (10, 50), (210, 70), (255, 255, 255), 2)\n",
    "            cv2.putText(frame, f\"{progress}%\", (215, 65),\n",
    "                        cv2.FONT_HERSHEY_SIMPLEX, 0.5, (0, 255, 0), 1)\n",
    "\n",
    "            cv2.imshow(\"Mood Detector\", frame)\n",
    "            if cv2.waitKey(5) & 0xFF == ord('q'):\n",
    "                break\n",
    "\n",
    "        if mood_counts:\n",
    "            detected_mood = max(mood_counts, key=mood_counts.get)\n",
    "\n",
    "        status_var.set(f\"Mood detected: {detected_mood}\")\n",
    "        print(f\"Final Mood Detected: {detected_mood}\")\n",
    "\n",
    "    cap.release()\n",
    "    cv2.destroyAllWindows()\n",
    "\n",
    "def calculate_hand_features(landmarks, frame_width, frame_height):\n",
    "    wrist = landmarks[0]\n",
    "    thumb_tip = landmarks[4]\n",
    "    index_tip = landmarks[8]\n",
    "    middle_tip = landmarks[12]\n",
    "    ring_tip = landmarks[16]\n",
    "    pinky_tip = landmarks[20]\n",
    "\n",
    "    palm_points = [landmarks[0], landmarks[5], landmarks[9], landmarks[13], landmarks[17]]\n",
    "    palm_x = sum(point.x for point in palm_points) / len(palm_points)\n",
    "    palm_y = sum(point.y for point in palm_points) / len(palm_points)\n",
    "    palm_z = sum(point.z for point in palm_points) / len(palm_points)\n",
    "\n",
    "    thumb_tip_coord = (thumb_tip.x * frame_width, thumb_tip.y * frame_height)\n",
    "    index_tip_coord = (index_tip.x * frame_width, index_tip.y * frame_height)\n",
    "    palm_center = (palm_x * frame_width, palm_y * frame_height)\n",
    "\n",
    "    pinch_distance = ((thumb_tip.x - index_tip.x) ** 2 +\n",
    "                      (thumb_tip.y - index_tip.y) ** 2) ** 0.5\n",
    "\n",
    "    fingertips_to_palm = [\n",
    "        ((tip.x - palm_x) ** 2 + (tip.y - palm_y) ** 2) ** 0.5\n",
    "        for tip in [thumb_tip, index_tip, middle_tip, ring_tip, pinky_tip]\n",
    "    ]\n",
    "\n",
    "    finger_heights = [\n",
    "        wrist.y - tip.y\n",
    "        for tip in [thumb_tip, index_tip, middle_tip, ring_tip, pinky_tip]\n",
    "    ]\n",
    "\n",
    "    palm_facing_camera = (middle_tip.z - wrist.z) < -0.05\n",
    "    thumb_up = thumb_tip.y < wrist.y - 0.1\n",
    "    avg_fingertip_z = sum(tip.z for tip in [thumb_tip, index_tip, middle_tip, ring_tip, pinky_tip]) / 5\n",
    "\n",
    "    finger_curl_thresholds = [0.08, 0.06, 0.06, 0.06]\n",
    "    fingers_curled = [\n",
    "        abs(landmarks[4*i+3].y - landmarks[4*i+1].y) < finger_curl_thresholds[i-1]\n",
    "        for i in range(1, 5)\n",
    "    ]\n",
    "    fist_detected = all(fingers_curled) and thumb_tip.x > index_tip.x\n",
    "\n",
    "    return {\n",
    "        \"palm_center\": palm_center,\n",
    "        \"pinch_distance\": pinch_distance,\n",
    "        \"palm_facing_camera\": palm_facing_camera,\n",
    "        \"thumb_up\": thumb_up,\n",
    "        \"fingertips_to_palm\": fingertips_to_palm,\n",
    "        \"finger_heights\": finger_heights,\n",
    "        \"fist_detected\": fist_detected,\n",
    "        \"thumb_tip\": thumb_tip_coord,\n",
    "        \"index_tip\": index_tip_coord,\n",
    "        \"avg_fingertip_z\": avg_fingertip_z\n",
    "    }\n",
    "\n",
    "def detect_gestures(hand_features, frame_shape):\n",
    "    global gesture_state, current_gesture, last_gesture_time, debug_info\n",
    "    current_time = time.time()\n",
    "    width, height = frame_shape[1], frame_shape[0]\n",
    "\n",
    "    palm_center = hand_features[\"palm_center\"]\n",
    "    prev_hand_positions.append(palm_center)\n",
    "    current_pinch = hand_features[\"pinch_distance\"]\n",
    "    pinch_distances.append(current_pinch)\n",
    "    current_gesture = \"None\"\n",
    "\n",
    "    debug_info = {\n",
    "        \"palm_facing\": hand_features[\"palm_facing_camera\"],\n",
    "        \"fist\": hand_features[\"fist_detected\"],\n",
    "        \"thumb_up\": hand_features[\"thumb_up\"],\n",
    "        \"pinch\": round(current_pinch, 3)\n",
    "    }\n",
    "\n",
    "    if current_time - last_gesture_time < gesture_cooldown:\n",
    "        return None\n",
    "\n",
    "    if hand_features[\"palm_facing_camera\"] and not gesture_state.palm_shown:\n",
    "        current_gesture = \"Palm Stop\"\n",
    "        gesture_state.palm_shown = True\n",
    "        last_gesture_time = current_time\n",
    "        return \"palm_stop\"\n",
    "\n",
    "    if not hand_features[\"palm_facing_camera\"] and gesture_state.palm_shown:\n",
    "        gesture_state.palm_shown = False\n",
    "\n",
    "    if hand_features[\"thumb_up\"] and not hand_features[\"fist_detected\"] and not gesture_state.thumbs_up_shown:\n",
    "        current_gesture = \"Thumbs Up\"\n",
    "        gesture_state.thumbs_up_shown = True\n",
    "        last_gesture_time = current_time\n",
    "        return \"thumbs_up\"\n",
    "\n",
    "    if not hand_features[\"thumb_up\"] and gesture_state.thumbs_up_shown:\n",
    "        gesture_state.thumbs_up_shown = False\n",
    "\n",
    "    if hand_features[\"fist_detected\"] and not gesture_state.fist_shown:\n",
    "        current_gesture = \"Fist\"\n",
    "        gesture_state.fist_shown = True\n",
    "        last_gesture_time = current_time\n",
    "        return \"fist\"\n",
    "\n",
    "    if not hand_features[\"fist_detected\"] and gesture_state.fist_shown:\n",
    "        gesture_state.fist_shown = False\n",
    "\n",
    "    if len(prev_hand_positions) >= 5:\n",
    "        oldest_pos = prev_hand_positions[0]\n",
    "        newest_pos = prev_hand_positions[-1]\n",
    "        x_distance = (newest_pos[0] - oldest_pos[0]) / width\n",
    "        if abs(x_distance) > swipe_threshold:\n",
    "            prev_hand_positions.clear()\n",
    "            if x_distance > 0:\n",
    "                current_gesture = \"Swipe Right\"\n",
    "                last_gesture_time = current_time\n",
    "                return \"swipe_right\"\n",
    "            else:\n",
    "                current_gesture = \"Swipe Left\"\n",
    "                last_gesture_time = current_time\n",
    "                return \"swipe_left\"\n",
    "\n",
    "    if len(pinch_distances) >= 3:\n",
    "        pinch_list = list(pinch_distances)\n",
    "        avg_current = sum(pinch_list[-2:]) / 2\n",
    "        avg_previous = sum(pinch_list[:-2]) / (len(pinch_list) - 2)\n",
    "        if abs(avg_current - avg_previous) > 0.02:\n",
    "            last_gesture_time = current_time - gesture_cooldown/2\n",
    "            if avg_current < avg_previous:\n",
    "                current_gesture = \"Pinch In\"\n",
    "                return \"pinch_in\"\n",
    "            else:\n",
    "                current_gesture = \"Pinch Out\"\n",
    "                return \"pinch_out\"\n",
    "\n",
    "    return None\n",
    "\n",
    "def process_hand_gestures():\n",
    "    global prev_hand_positions, pinch_distances, last_gesture_time, exit_flag, current_gesture\n",
    "    cap = cv2.VideoCapture(0)\n",
    "    cap.set(cv2.CAP_PROP_FRAME_WIDTH, 640)\n",
    "    cap.set(cv2.CAP_PROP_FRAME_HEIGHT, 480)\n",
    "    frame_count = 0\n",
    "    fps_start_time = time.time()\n",
    "    fps = 0\n",
    "\n",
    "    while not exit_flag:\n",
    "        if not gesture_detection_enabled:\n",
    "            time.sleep(0.1)\n",
    "            continue\n",
    "\n",
    "        ret, frame = cap.read()\n",
    "        if not ret:\n",
    "            continue\n",
    "\n",
    "        frame_count += 1\n",
    "        if (time.time() - fps_start_time) > 1:\n",
    "            fps = frame_count / (time.time() - fps_start_time)\n",
    "            frame_count = 0\n",
    "            fps_start_time = time.time()\n",
    "\n",
    "        frame = cv2.flip(frame, 1)\n",
    "        rgb_frame = cv2.cvtColor(frame, cv2.COLOR_BGR2RGB)\n",
    "        results = hands.process(rgb_frame)\n",
    "\n",
    "        if results.multi_hand_landmarks:\n",
    "            hand_landmarks = results.multi_hand_landmarks[0]\n",
    "            hand_features = calculate_hand_features(\n",
    "                hand_landmarks.landmark,\n",
    "                frame.shape[1],\n",
    "                frame.shape[0]\n",
    "            )\n",
    "\n",
    "            detected_gesture = detect_gestures(hand_features, frame.shape)\n",
    "            if detected_gesture:\n",
    "                if detected_gesture == \"palm_stop\":\n",
    "                    status_var.set(\"Gesture: Palm → Stop Music\")\n",
    "                    stop_song()\n",
    "                elif detected_gesture == \"thumbs_up\":\n",
    "                    status_var.set(\"Gesture: Thumbs Up → Play Music\")\n",
    "                    if not music_playing:\n",
    "                        play_song(detected_mood)\n",
    "                    elif music_paused:\n",
    "                        toggle_pause()\n",
    "                elif detected_gesture == \"fist\":\n",
    "                    status_var.set(\"Gesture: Fist → Pause/Resume\")\n",
    "                    toggle_pause()\n",
    "                elif detected_gesture == \"swipe_right\":\n",
    "                    status_var.set(\"Gesture: Swipe Right → Next Song\")\n",
    "                    next_song()\n",
    "                elif detected_gesture == \"swipe_left\":\n",
    "                    status_var.set(\"Gesture: Swipe Left → Previous Song\")\n",
    "                elif detected_gesture == \"pinch_in\":\n",
    "                    status_var.set(\"Gesture: Pinch In → Volume Down\")\n",
    "                    adjust_volume(-0.05)\n",
    "                elif detected_gesture == \"pinch_out\":\n",
    "                    status_var.set(\"Gesture: Pinch Out → Volume Up\")\n",
    "                    adjust_volume(0.05)\n",
    "\n",
    "            mp_drawing.draw_landmarks(\n",
    "                frame,\n",
    "                hand_landmarks,\n",
    "                mp_hands.HAND_CONNECTIONS,\n",
    "                mp_drawing_styles.get_default_hand_landmarks_style(),\n",
    "                mp_drawing_styles.get_default_hand_connections_style()\n",
    "            )\n",
    "\n",
    "            if hand_features[\"thumb_tip\"] and hand_features[\"index_tip\"]:\n",
    "                cv2.line(frame,\n",
    "                         (int(hand_features[\"thumb_tip\"][0]), int(hand_features[\"thumb_tip\"][1])),\n",
    "                         (int(hand_features[\"index_tip\"][0]), int(hand_features[\"index_tip\"][1])),\n",
    "                         (0, 255, 255), 2)\n",
    "\n",
    "        cv2.putText(frame, f\"Mood: {detected_mood}\", (10, 30),\n",
    "                    cv2.FONT_HERSHEY_SIMPLEX, 0.6, (0, 0, 255), 2)\n",
    "        cv2.putText(frame, f\"Current Gesture: {current_gesture}\", (10, 60),\n",
    "                    cv2.FONT_HERSHEY_SIMPLEX, 0.6, (255, 0, 0), 2)\n",
    "\n",
    "        if music_playing:\n",
    "            play_status = \"PLAYING\" if not music_paused else \"PAUSED\"\n",
    "            cv2.putText(frame, f\"{play_status}: {current_song}\", (10, 90),\n",
    "                        cv2.FONT_HERSHEY_SIMPLEX, 0.6, (0, 255, 0), 2)\n",
    "            volume_percent = int(current_volume * 100)\n",
    "            cv2.putText(frame, f\"Volume: {volume_percent}%\", (10, 120),\n",
    "                        cv2.FONT_HERSHEY_SIMPLEX, 0.6, (0, 255, 0), 2)\n",
    "            cv2.rectangle(frame, (150, 110), (150 + volume_percent, 125), (0, 255, 0), -1)\n",
    "\n",
    "        y_pos = 150\n",
    "        for key, value in debug_info.items():\n",
    "            cv2.putText(frame, f\"{key}: {value}\", (10, y_pos),\n",
    "                        cv2.FONT_HERSHEY_SIMPLEX, 0.5, (255, 255, 0), 1)\n",
    "            y_pos += 25\n",
    "\n",
    "        cv2.putText(frame, f\"FPS: {int(fps)}\", (frame.shape[1] - 100, 30),\n",
    "                    cv2.FONT_HERSHEY_SIMPLEX, 0.6, (0, 255, 255), 2)\n",
    "\n",
    "        cv2.rectangle(frame, (frame.shape[1] - 210, 50), (frame.shape[1] - 10, 250), (0, 0, 0), -1)\n",
    "        cv2.rectangle(frame, (frame.shape[1] - 210, 50), (frame.shape[1] - 10, 250), (255, 255, 255), 2)\n",
    "\n",
    "        guide_text = [\n",
    "            \"Gesture Controls:\",\n",
    "            \"Palm: Stop Music\",\n",
    "            \"Thumbs Up: Play Music\",\n",
    "            \"Fist: Pause/Resume\",\n",
    "            \"Swipe Left/Right: Change Song\",\n",
    "            \"Pinch In/Out: Volume Control\"\n",
    "        ]\n",
    "\n",
    "        for i, text in enumerate(guide_text):\n",
    "            cv2.putText(frame, text, (frame.shape[1] - 200, 80 + i * 30),\n",
    "                        cv2.FONT_HERSHEY_SIMPLEX, 0.5, (255, 255, 255), 1)\n",
    "\n",
    "        cv2.imshow(\"Hand Gesture Controls\", frame)\n",
    "        if cv2.waitKey(5) & 0xFF == ord('q'):\n",
    "            break\n",
    "\n",
    "    cap.release()\n",
    "    cv2.destroyAllWindows()\n",
    "\n",
    "def update_mood_color(mood):\n",
    "    mood_colors = {\n",
    "        \"Happy\": \"green\",\n",
    "        \"Sad\": \"blue\",\n",
    "        \"Neutral\": \"gray\",\n",
    "        \"Angry\": \"red\",\n",
    "        \"Fear\": \"purple\",\n",
    "        \"Disgust\": \"brown\",\n",
    "        \"Surprise\": \"orange\"\n",
    "    }\n",
    "    mood_label.config(fg=mood_colors.get(mood, \"black\"))\n",
    "\n",
    "def get_song_list_for_mood(mood):\n",
    "    songs = [file for file in os.listdir(song_folder) if mood.lower() in file.lower()]\n",
    "    if not songs:\n",
    "        songs = os.listdir(song_folder)\n",
    "    return songs\n",
    "\n",
    "def play_song(mood):\n",
    "    global current_song, music_playing, music_paused, current_volume\n",
    "    songs = get_song_list_for_mood(mood)\n",
    "    if not songs:\n",
    "        status_var.set(f\"No songs found in {song_folder}\")\n",
    "        return\n",
    "\n",
    "    current_song = random.choice(songs)\n",
    "    song_path = os.path.join(song_folder, current_song)\n",
    "    try:\n",
    "        pygame.mixer.music.load(song_path)\n",
    "        pygame.mixer.music.set_volume(current_volume)\n",
    "        pygame.mixer.music.play()\n",
    "        music_playing = True\n",
    "        music_paused = False\n",
    "        song_var.set(f\"Playing: {current_song}\")\n",
    "        status_var.set(\"🎵 Enjoy your music!\")\n",
    "        volume_var.set(str(int(current_volume * 100)))\n",
    "        volume_scale.set(int(current_volume * 100))\n",
    "    except Exception as e:\n",
    "        status_var.set(f\"Error playing song: {e}\")\n",
    "\n",
    "def stop_song():\n",
    "    global music_playing, music_paused\n",
    "    pygame.mixer.music.stop()\n",
    "    music_playing = False\n",
    "    music_paused = False\n",
    "    song_var.set(\"Music Stopped\")\n",
    "    status_var.set(\"⏹ Song stopped.\")\n",
    "\n",
    "def next_song():\n",
    "    if detected_mood != \"Neutral\":\n",
    "        stop_song()\n",
    "        time.sleep(0.5)\n",
    "        play_song(detected_mood)\n",
    "    else:\n",
    "        status_var.set(\"Detect mood first\")\n",
    "\n",
    "def toggle_pause():\n",
    "    global music_paused\n",
    "    if music_playing:\n",
    "        if not music_paused:\n",
    "            pygame.mixer.music.pause()\n",
    "            status_var.set(\"⏸ Music Paused\")\n",
    "            song_var.set(\"Paused: \" + current_song)\n",
    "            music_paused = True\n",
    "        else:\n",
    "            pygame.mixer.music.unpause()\n",
    "            status_var.set(\"▶ Music Resumed\")\n",
    "            song_var.set(\"Playing: \" + current_song)\n",
    "            music_paused = False\n",
    "\n",
    "def adjust_volume(change):\n",
    "    global current_volume\n",
    "    current_volume = max(0.0, min(1.0, current_volume + change))\n",
    "    pygame.mixer.music.set_volume(current_volume)\n",
    "    volume_var.set(str(int(current_volume * 100)))\n",
    "    volume_scale.set(int(current_volume * 100))\n",
    "\n",
    "def set_volume_from_scale(val):\n",
    "    global current_volume\n",
    "    current_volume = float(val) / 100\n",
    "    pygame.mixer.music.set_volume(current_volume)\n",
    "\n",
    "def toggle_gesture_detection():\n",
    "    global gesture_detection_enabled\n",
    "    gesture_detection_enabled = not gesture_detection_enabled\n",
    "    if gesture_detection_enabled:\n",
    "        gesture_button.config(text=\"Disable Gesture Control\", bg=\"#f44336\")\n",
    "        status_var.set(\"Gesture control enabled\")\n",
    "    else:\n",
    "        gesture_button.config(text=\"Enable Gesture Control\", bg=\"#4CAF50\")\n",
    "        status_var.set(\"Gesture control disabled\")\n",
    "\n",
    "def start_detection_and_play_song():\n",
    "    detect_mood()\n",
    "    play_song(detected_mood)\n",
    "    if not hasattr(start_detection_and_play_song, 'gesture_thread_started'):\n",
    "        gesture_thread = Thread(target=process_hand_gestures)\n",
    "        gesture_thread.daemon = True\n",
    "        gesture_thread.start()\n",
    "        start_detection_and_play_song.gesture_thread_started = True\n",
    "\n",
    "def start_gui():\n",
    "    global root, status_var, mood_var, song_var, volume_var, mood_label, volume_scale, gesture_button, exit_flag\n",
    "    root = Tk()\n",
    "    root.title(\"Advanced Mood-Based Song Player with Gesture Control\")\n",
    "    root.geometry(\"700x600\")\n",
    "    root.configure(bg=\"#f5f5f5\")\n",
    "\n",
    "    status_var = StringVar()\n",
    "    mood_var = StringVar()\n",
    "    song_var = StringVar()\n",
    "    volume_var = StringVar()\n",
    "    volume_var.set(\"50\")\n",
    "\n",
    "    header_frame = Frame(root, bg=\"#2c3e50\", padx=10, pady=10)\n",
    "    header_frame.pack(fill=\"x\")\n",
    "    Label(header_frame, text=\"🎧 Mood-Based Music Player\",\n",
    "          font=(\"Helvetica\", 22, \"bold\"), fg=\"white\", bg=\"#2c3e50\").pack()\n",
    "    Label(header_frame, text=\"Control your music with hand gestures!\",\n",
    "          font=(\"Helvetica\", 12), fg=\"white\", bg=\"#2c3e50\").pack()\n",
    "\n",
    "    status_frame = Frame(root, bg=\"#ecf0f1\", padx=10, pady=10)\n",
    "    status_frame.pack(fill=\"x\")\n",
    "    Label(status_frame, text=\"STATUS\", font=(\"Helvetica\", 12, \"bold\"), bg=\"#ecf0f1\").pack(anchor=\"w\")\n",
    "    Label(status_frame, textvariable=status_var, font=(\"Helvetica\", 10), bg=\"#ecf0f1\", fg=\"#e74c3c\").pack(anchor=\"w\")\n",
    "\n",
    "    mood_frame = Frame(root, bg=\"#f5f5f5\", padx=10, pady=10)\n",
    "    mood_frame.pack(fill=\"x\")\n",
    "    Label(mood_frame, text=\"DETECTED MOOD\", font=(\"Helvetica\", 12, \"bold\"), bg=\"#f5f5f5\").pack(anchor=\"w\")\n",
    "    mood_label = Label(mood_frame, textvariable=mood_var, font=(\"Helvetica\", 16, \"bold\"), bg=\"#f5f5f5\")\n",
    "    mood_label.pack(anchor=\"w\")\n",
    "\n",
    "    song_frame = Frame(root, bg=\"#f5f5f5\", padx=10, pady=10)\n",
    "    song_frame.pack(fill=\"x\")\n",
    "    Label(song_frame, text=\"NOW PLAYING\", font=(\"Helvetica\", 12, \"bold\"), bg=\"#f5f5f5\").pack(anchor=\"w\")\n",
    "    Label(song_frame, textvariable=song_var, font=(\"Helvetica\", 14), bg=\"#f5f5f5\").pack(anchor=\"w\")\n",
    "\n",
    "    volume_frame = Frame(root, bg=\"#f5f5f5\", padx=10, pady=10)\n",
    "    volume_frame.pack(fill=\"x\")\n",
    "    Label(volume_frame, text=\"VOLUME\", font=(\"Helvetica\", 12, \"bold\"), bg=\"#f5f5f5\").pack(anchor=\"w\")\n",
    "    volume_control_frame = Frame(volume_frame, bg=\"#f5f5f5\")\n",
    "    volume_control_frame.pack(fill=\"x\")\n",
    "    volume_scale = Scale(volume_control_frame, from_=0, to=100, orient=HORIZONTAL,\n",
    "                        length=350, command=set_volume_from_scale, variable=volume_var,\n",
    "                        bg=\"#f5f5f5\", troughcolor=\"#3498db\", highlightthickness=0)\n",
    "    volume_scale.pack(side=\"left\")\n",
    "    Label(volume_control_frame, textvariable=volume_var, font=(\"Helvetica\", 12),\n",
    "          bg=\"#f5f5f5\", width=3).pack(side=\"left\", padx=10)\n",
    "\n",
    "    control_frame = Frame(root, bg=\"#f5f5f5\", padx=10, pady=10)\n",
    "    control_frame.pack(fill=\"x\")\n",
    "    Button(control_frame, text=\"Detect Mood & Play\", command=start_detection_and_play_song,\n",
    "           bg=\"#3498db\", fg=\"white\", font=(\"Helvetica\", 12),\n",
    "           padx=20, pady=5).pack(side=\"left\", padx=5)\n",
    "    Button(control_frame, text=\"Stop\", command=stop_song,\n",
    "           bg=\"#e74c3c\", fg=\"white\", font=(\"Helvetica\", 12),\n",
    "           padx=20, pady=5).pack(side=\"left\", padx=5)\n",
    "    Button(control_frame, text=\"Next Song\", command=next_song,\n",
    "           bg=\"#2ecc71\", fg=\"white\", font=(\"Helvetica\", 12),\n",
    "           padx=20, pady=5).pack(side=\"left\", padx=5)\n",
    "    Button(control_frame, text=\"Pause/Play\", command=toggle_pause,\n",
    "           bg=\"#f39c12\", fg=\"white\", font=(\"Helvetica\", 12),\n",
    "           padx=20, pady=5).pack(side=\"left\", padx=5)\n",
    "\n",
    "    gesture_frame = Frame(root, bg=\"#f5f5f5\", padx=10, pady=10)\n",
    "    gesture_frame.pack(fill=\"x\")\n",
    "    gesture_button = Button(gesture_frame, text=\"Disable Gesture Control\", command=toggle_gesture_detection,\n",
    "                           bg=\"#f44336\", fg=\"white\", font=(\"Helvetica\", 12),\n",
    "                           padx=20, pady=5)\n",
    "    gesture_button.pack()\n",
    "\n",
    "    instruction_frame = Frame(root, bg=\"#f5f5f5\", padx=10, pady=10)\n",
    "    instruction_frame.pack(fill=\"x\", expand=True)\n",
    "    instruction_text = \"\"\"\n",
    "    HOW TO USE:\n",
    "\n",
    "    1. Click \"Detect Mood & Play\" to analyze your mood and start playing appropriate music\n",
    "    2. Use hand gestures to control playback:\n",
    "       - Palm facing camera: Stop music\n",
    "       - Thumbs up: Play music\n",
    "       - Fist: Pause/Resume\n",
    "       - Swipe left/right: Change song\n",
    "       - Pinch in/out: Adjust volume\n",
    "    3. Or use the buttons for manual control\n",
    "\n",
    "    Note: Make sure you have songs in your songs folder and a webcam connected!\n",
    "    \"\"\"\n",
    "    Label(instruction_frame, text=instruction_text, justify=\"left\",\n",
    "          font=(\"Helvetica\", 10), bg=\"#f5f5f5\", anchor=\"w\").pack(fill=\"both\")\n",
    "\n",
    "    footer_frame = Frame(root, bg=\"#2c3e50\", padx=10, pady=5)\n",
    "    footer_frame.pack(fill=\"x\", side=\"bottom\")\n",
    "    Label(footer_frame, text=\"© 2023 Music Mood Player - Hand Gesture Controlled\",\n",
    "          font=(\"Helvetica\", 8), fg=\"white\", bg=\"#2c3e50\").pack()\n",
    "\n",
    "    status_var.set(\"Ready! Click 'Detect Mood & Play' to start\")\n",
    "    mood_var.set(\"Mood: Not detected\")\n",
    "    song_var.set(\"No song playing\")\n",
    "\n",
    "    def on_closing():\n",
    "        global exit_flag\n",
    "        exit_flag = True\n",
    "        root.destroy()\n",
    "\n",
    "    root.protocol(\"WM_DELETE_WINDOW\", on_closing)\n",
    "    root.mainloop()\n",
    "\n",
    "# Initialize and run\n",
    "pygame.mixer.music.set_volume(current_volume)\n",
    "if not os.path.exists(song_folder):\n",
    "    print(f\"Warning: Song folder '{song_folder}' not found. Creating it...\")\n",
    "    os.makedirs(song_folder)\n",
    "    print(f\"Please add MP3 files to {song_folder}\")\n",
    "\n",
    "start_gui()"
   ]
  }
 ],
 "metadata": {
  "kernelspec": {
   "display_name": "mediapipe_env",
   "language": "python",
   "name": "python3"
  },
  "language_info": {
   "codemirror_mode": {
    "name": "ipython",
    "version": 3
   },
   "file_extension": ".py",
   "mimetype": "text/x-python",
   "name": "python",
   "nbconvert_exporter": "python",
   "pygments_lexer": "ipython3",
   "version": "3.10.16"
  }
 },
 "nbformat": 4,
 "nbformat_minor": 5
}
